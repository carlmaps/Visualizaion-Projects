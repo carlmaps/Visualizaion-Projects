{
  "nbformat": 4,
  "nbformat_minor": 0,
  "metadata": {
    "colab": {
      "name": "SEA Nations COVID-19 EDA.ipynb",
      "provenance": [],
      "collapsed_sections": [],
      "authorship_tag": "ABX9TyMEdu660r/2VuOabfrOd2d4",
      "include_colab_link": true
    },
    "kernelspec": {
      "name": "python3",
      "display_name": "Python 3"
    }
  },
  "cells": [
    {
      "cell_type": "markdown",
      "metadata": {
        "id": "view-in-github",
        "colab_type": "text"
      },
      "source": [
        "<a href=\"https://colab.research.google.com/github/carlmaps/Visualizaion-Projects/blob/master/SEA_Nations_COVID_19_EDA.ipynb\" target=\"_parent\"><img src=\"https://colab.research.google.com/assets/colab-badge.svg\" alt=\"Open In Colab\"/></a>"
      ]
    },
    {
      "cell_type": "markdown",
      "metadata": {
        "id": "TR-xuzhZzLuq",
        "colab_type": "text"
      },
      "source": [
        "#### SouthEast Asian Nations COVID-19 Exploratory Data Analysis\n",
        "DataSource: https://www.kaggle.com/sudalairajkumar/novel-corona-virus-2019-dataset"
      ]
    },
    {
      "cell_type": "markdown",
      "metadata": {
        "id": "A7BGBvMgBT83",
        "colab_type": "text"
      },
      "source": [
        "Import needed package and libraries"
      ]
    },
    {
      "cell_type": "code",
      "metadata": {
        "id": "0R1lysNZzfQJ",
        "colab_type": "code",
        "outputId": "6e23ad4c-1f0b-4709-b768-1dd30ce87f75",
        "colab": {
          "base_uri": "https://localhost:8080/",
          "height": 52
        }
      },
      "source": [
        "import numpy as np\n",
        "import pandas as pd\n",
        "import seaborn as sns\n",
        "import matplotlib.pyplot as plt\n",
        "import matplotlib.ticker as ticker\n",
        "import plotly as py\n",
        "import plotly.io as pio\n",
        "import plotly.express as px\n",
        "import plotly.graph_objs as go\n",
        "from plotly.subplots import make_subplots\n",
        "from plotly.offline import download_plotlyjs, init_notebook_mode, plot, iplot\n",
        "\n",
        "\n",
        "%matplotlib inline\n",
        "init_notebook_mode(connected=True)\n",
        "\n",
        "#set default renderer to colab\n",
        "pio.renderers.default = 'colab'"
      ],
      "execution_count": 0,
      "outputs": [
        {
          "output_type": "stream",
          "text": [
            "/usr/local/lib/python3.6/dist-packages/statsmodels/tools/_testing.py:19: FutureWarning: pandas.util.testing is deprecated. Use the functions in the public API at pandas.testing instead.\n",
            "  import pandas.util.testing as tm\n"
          ],
          "name": "stderr"
        },
        {
          "output_type": "display_data",
          "data": {
            "text/html": [
              "        <script type=\"text/javascript\">\n",
              "        window.PlotlyConfig = {MathJaxConfig: 'local'};\n",
              "        if (window.MathJax) {MathJax.Hub.Config({SVG: {font: \"STIX-Web\"}});}\n",
              "        if (typeof require !== 'undefined') {\n",
              "        require.undef(\"plotly\");\n",
              "        requirejs.config({\n",
              "            paths: {\n",
              "                'plotly': ['https://cdn.plot.ly/plotly-latest.min']\n",
              "            }\n",
              "        });\n",
              "        require(['plotly'], function(Plotly) {\n",
              "            window._Plotly = Plotly;\n",
              "        });\n",
              "        }\n",
              "        </script>\n",
              "        "
            ]
          },
          "metadata": {
            "tags": []
          }
        }
      ]
    },
    {
      "cell_type": "markdown",
      "metadata": {
        "id": "xIGBw7OjBaZN",
        "colab_type": "text"
      },
      "source": [
        "My kaggle token is uploaded in google drive. Code below will download the kaggle.json file. This will be used to download the dataset from kaggle to Google Colab"
      ]
    },
    {
      "cell_type": "code",
      "metadata": {
        "id": "wYhjjnqIzpMj",
        "colab_type": "code",
        "outputId": "619d0a29-2b1f-45be-8aba-83073c8f584c",
        "colab": {
          "base_uri": "https://localhost:8080/",
          "height": 444
        }
      },
      "source": [
        "!pip install kaggle\n",
        "# Import kaggle.json from google drive\n",
        "# This snippet will output a link which needs authentication from any google account\n",
        "from googleapiclient.discovery import build\n",
        "import io, os\n",
        "from googleapiclient.http import MediaIoBaseDownload\n",
        "from google.colab import auth\n",
        "auth.authenticate_user()\n",
        "drive_service = build('drive', 'v3')\n",
        "results = drive_service.files().list(\n",
        "    q=\"name = 'kaggle.json'\", fields=\"files(id)\").execute()\n",
        "kaggle_api_key = results.get('files', [])\n",
        "# print(kaggle_api_key)\n",
        "filename = \"/content/.kaggle/kaggle.json\"\n",
        "os.makedirs(os.path.dirname(filename), exist_ok=True)\n",
        "request = drive_service.files().get_media(fileId=kaggle_api_key[0]['id'])\n",
        "fh = io.FileIO(filename, 'wb')\n",
        "downloader = MediaIoBaseDownload(fh, request)\n",
        "done = False\n",
        "while done is False:\n",
        "    status, done = downloader.next_chunk()\n",
        "    print(\"Download %d%%.\" % int(status.progress() * 100))\n",
        "os.chmod(filename, 600)\n",
        "\n",
        "! mkdir ~/.kaggle\n",
        "! cp /content/.kaggle/kaggle.json ~/.kaggle/\n",
        "! chmod 600 ~/.kaggle/kaggle.json\n",
        "! kaggle datasets download -d sudalairajkumar/novel-corona-virus-2019-dataset\n",
        "\n",
        "!mkdir covid19\n",
        "!unzip novel-corona-virus-2019-dataset.zip -d covid19"
      ],
      "execution_count": 0,
      "outputs": [
        {
          "output_type": "stream",
          "text": [
            "Requirement already satisfied: kaggle in /usr/local/lib/python3.6/dist-packages (1.5.6)\n",
            "Requirement already satisfied: python-dateutil in /usr/local/lib/python3.6/dist-packages (from kaggle) (2.8.1)\n",
            "Requirement already satisfied: python-slugify in /usr/local/lib/python3.6/dist-packages (from kaggle) (4.0.0)\n",
            "Requirement already satisfied: urllib3<1.25,>=1.21.1 in /usr/local/lib/python3.6/dist-packages (from kaggle) (1.24.3)\n",
            "Requirement already satisfied: certifi in /usr/local/lib/python3.6/dist-packages (from kaggle) (2020.4.5.1)\n",
            "Requirement already satisfied: tqdm in /usr/local/lib/python3.6/dist-packages (from kaggle) (4.38.0)\n",
            "Requirement already satisfied: requests in /usr/local/lib/python3.6/dist-packages (from kaggle) (2.21.0)\n",
            "Requirement already satisfied: six>=1.10 in /usr/local/lib/python3.6/dist-packages (from kaggle) (1.12.0)\n",
            "Requirement already satisfied: text-unidecode>=1.3 in /usr/local/lib/python3.6/dist-packages (from python-slugify->kaggle) (1.3)\n",
            "Requirement already satisfied: chardet<3.1.0,>=3.0.2 in /usr/local/lib/python3.6/dist-packages (from requests->kaggle) (3.0.4)\n",
            "Requirement already satisfied: idna<2.9,>=2.5 in /usr/local/lib/python3.6/dist-packages (from requests->kaggle) (2.8)\n",
            "Download 100%.\n",
            "Downloading novel-corona-virus-2019-dataset.zip to /content\n",
            "  0% 0.00/748k [00:00<?, ?B/s]\n",
            "100% 748k/748k [00:00<00:00, 48.7MB/s]\n",
            "Archive:  novel-corona-virus-2019-dataset.zip\n",
            "  inflating: covid19/COVID19_line_list_data.csv  \n",
            "  inflating: covid19/COVID19_open_line_list.csv  \n",
            "  inflating: covid19/covid_19_data.csv  \n",
            "  inflating: covid19/time_series_covid_19_confirmed.csv  \n",
            "  inflating: covid19/time_series_covid_19_confirmed_US.csv  \n",
            "  inflating: covid19/time_series_covid_19_deaths.csv  \n",
            "  inflating: covid19/time_series_covid_19_deaths_US.csv  \n",
            "  inflating: covid19/time_series_covid_19_recovered.csv  \n"
          ],
          "name": "stdout"
        }
      ]
    },
    {
      "cell_type": "markdown",
      "metadata": {
        "id": "YftyuI2gB71F",
        "colab_type": "text"
      },
      "source": [
        "Reading the dataset in csv to pandas dataframe"
      ]
    },
    {
      "cell_type": "code",
      "metadata": {
        "id": "B4I38mZO0YRw",
        "colab_type": "code",
        "outputId": "efc5ffd1-500a-4633-cbe6-5123916aae37",
        "colab": {
          "base_uri": "https://localhost:8080/",
          "height": 194
        }
      },
      "source": [
        "df = pd.read_csv('/content/covid19/covid_19_data.csv')\n",
        "df.head()"
      ],
      "execution_count": 0,
      "outputs": [
        {
          "output_type": "execute_result",
          "data": {
            "text/html": [
              "<div>\n",
              "<style scoped>\n",
              "    .dataframe tbody tr th:only-of-type {\n",
              "        vertical-align: middle;\n",
              "    }\n",
              "\n",
              "    .dataframe tbody tr th {\n",
              "        vertical-align: top;\n",
              "    }\n",
              "\n",
              "    .dataframe thead th {\n",
              "        text-align: right;\n",
              "    }\n",
              "</style>\n",
              "<table border=\"1\" class=\"dataframe\">\n",
              "  <thead>\n",
              "    <tr style=\"text-align: right;\">\n",
              "      <th></th>\n",
              "      <th>SNo</th>\n",
              "      <th>ObservationDate</th>\n",
              "      <th>Province/State</th>\n",
              "      <th>Country/Region</th>\n",
              "      <th>Last Update</th>\n",
              "      <th>Confirmed</th>\n",
              "      <th>Deaths</th>\n",
              "      <th>Recovered</th>\n",
              "    </tr>\n",
              "  </thead>\n",
              "  <tbody>\n",
              "    <tr>\n",
              "      <th>0</th>\n",
              "      <td>1</td>\n",
              "      <td>01/22/2020</td>\n",
              "      <td>Anhui</td>\n",
              "      <td>Mainland China</td>\n",
              "      <td>1/22/2020 17:00</td>\n",
              "      <td>1.0</td>\n",
              "      <td>0.0</td>\n",
              "      <td>0.0</td>\n",
              "    </tr>\n",
              "    <tr>\n",
              "      <th>1</th>\n",
              "      <td>2</td>\n",
              "      <td>01/22/2020</td>\n",
              "      <td>Beijing</td>\n",
              "      <td>Mainland China</td>\n",
              "      <td>1/22/2020 17:00</td>\n",
              "      <td>14.0</td>\n",
              "      <td>0.0</td>\n",
              "      <td>0.0</td>\n",
              "    </tr>\n",
              "    <tr>\n",
              "      <th>2</th>\n",
              "      <td>3</td>\n",
              "      <td>01/22/2020</td>\n",
              "      <td>Chongqing</td>\n",
              "      <td>Mainland China</td>\n",
              "      <td>1/22/2020 17:00</td>\n",
              "      <td>6.0</td>\n",
              "      <td>0.0</td>\n",
              "      <td>0.0</td>\n",
              "    </tr>\n",
              "    <tr>\n",
              "      <th>3</th>\n",
              "      <td>4</td>\n",
              "      <td>01/22/2020</td>\n",
              "      <td>Fujian</td>\n",
              "      <td>Mainland China</td>\n",
              "      <td>1/22/2020 17:00</td>\n",
              "      <td>1.0</td>\n",
              "      <td>0.0</td>\n",
              "      <td>0.0</td>\n",
              "    </tr>\n",
              "    <tr>\n",
              "      <th>4</th>\n",
              "      <td>5</td>\n",
              "      <td>01/22/2020</td>\n",
              "      <td>Gansu</td>\n",
              "      <td>Mainland China</td>\n",
              "      <td>1/22/2020 17:00</td>\n",
              "      <td>0.0</td>\n",
              "      <td>0.0</td>\n",
              "      <td>0.0</td>\n",
              "    </tr>\n",
              "  </tbody>\n",
              "</table>\n",
              "</div>"
            ],
            "text/plain": [
              "   SNo ObservationDate Province/State  ... Confirmed Deaths  Recovered\n",
              "0    1      01/22/2020          Anhui  ...       1.0    0.0        0.0\n",
              "1    2      01/22/2020        Beijing  ...      14.0    0.0        0.0\n",
              "2    3      01/22/2020      Chongqing  ...       6.0    0.0        0.0\n",
              "3    4      01/22/2020         Fujian  ...       1.0    0.0        0.0\n",
              "4    5      01/22/2020          Gansu  ...       0.0    0.0        0.0\n",
              "\n",
              "[5 rows x 8 columns]"
            ]
          },
          "metadata": {
            "tags": []
          },
          "execution_count": 89
        }
      ]
    },
    {
      "cell_type": "markdown",
      "metadata": {
        "id": "_OocXNBHCFZn",
        "colab_type": "text"
      },
      "source": [
        "Creating a copy of the dataframe."
      ]
    },
    {
      "cell_type": "code",
      "metadata": {
        "id": "Cejsbp4G0wlA",
        "colab_type": "code",
        "colab": {}
      },
      "source": [
        "covid19_sea = df.copy(True)"
      ],
      "execution_count": 0,
      "outputs": []
    },
    {
      "cell_type": "markdown",
      "metadata": {
        "id": "p81wTdyhCPb3",
        "colab_type": "text"
      },
      "source": [
        "Creating a list of SouthEast Asian Countries. This is then used to get the subset of the data for these countries"
      ]
    },
    {
      "cell_type": "code",
      "metadata": {
        "id": "jBigTF320zDJ",
        "colab_type": "code",
        "colab": {}
      },
      "source": [
        "SEACountries = ['Indonesia','Thailand','Philippines','Malaysia','Singapore','Vietnam','Myanmar','Cambodia','Laos','Brunei','Timor Leste']\n",
        "covid19_sea = covid19_sea[covid19_sea['Country/Region'].isin(SEACountries)]"
      ],
      "execution_count": 0,
      "outputs": []
    },
    {
      "cell_type": "markdown",
      "metadata": {
        "id": "zev0V-eECpxl",
        "colab_type": "text"
      },
      "source": [
        "Checking the column names"
      ]
    },
    {
      "cell_type": "code",
      "metadata": {
        "id": "j2XhlmJ02nAG",
        "colab_type": "code",
        "outputId": "c6c280e8-d81e-4aad-e104-03c3903d4fb4",
        "colab": {
          "base_uri": "https://localhost:8080/",
          "height": 70
        }
      },
      "source": [
        "covid19_sea.columns"
      ],
      "execution_count": 0,
      "outputs": [
        {
          "output_type": "execute_result",
          "data": {
            "text/plain": [
              "Index(['SNo', 'ObservationDate', 'Province/State', 'Country/Region',\n",
              "       'Last Update', 'Confirmed', 'Deaths', 'Recovered'],\n",
              "      dtype='object')"
            ]
          },
          "metadata": {
            "tags": []
          },
          "execution_count": 92
        }
      ]
    },
    {
      "cell_type": "markdown",
      "metadata": {
        "id": "mllo_LRbCypg",
        "colab_type": "text"
      },
      "source": [
        "Dropping some of the columns since we wont we using them. There's no Province/State for these countries so we are dropping them as well"
      ]
    },
    {
      "cell_type": "code",
      "metadata": {
        "id": "7EGffT0N2Zdd",
        "colab_type": "code",
        "colab": {}
      },
      "source": [
        "covid19_sea.drop(['SNo','Last Update', 'Province/State'], axis=1, inplace=True)"
      ],
      "execution_count": 0,
      "outputs": []
    },
    {
      "cell_type": "markdown",
      "metadata": {
        "id": "bhHfNmDjDMA_",
        "colab_type": "text"
      },
      "source": [
        "Rename columns for to a shorter name"
      ]
    },
    {
      "cell_type": "code",
      "metadata": {
        "id": "bKUwzQmy4nj7",
        "colab_type": "code",
        "colab": {}
      },
      "source": [
        "covid19_sea.rename(columns={'Country/Region':'Country','ObservationDate':'Date'},inplace=True)"
      ],
      "execution_count": 0,
      "outputs": []
    },
    {
      "cell_type": "markdown",
      "metadata": {
        "id": "gd-CdrEpDa_0",
        "colab_type": "text"
      },
      "source": [
        "Run the DataFrame.info to get the details of the columns/fields which includes counts and the datatype"
      ]
    },
    {
      "cell_type": "code",
      "metadata": {
        "id": "p88sMItf46JN",
        "colab_type": "code",
        "outputId": "a04cb2b1-df07-4b33-a8a5-e9c28b4f6e23",
        "colab": {
          "base_uri": "https://localhost:8080/",
          "height": 230
        }
      },
      "source": [
        "covid19_sea.info()"
      ],
      "execution_count": 0,
      "outputs": [
        {
          "output_type": "stream",
          "text": [
            "<class 'pandas.core.frame.DataFrame'>\n",
            "Int64Index: 591 entries, 36 to 14986\n",
            "Data columns (total 5 columns):\n",
            " #   Column     Non-Null Count  Dtype  \n",
            "---  ------     --------------  -----  \n",
            " 0   Date       591 non-null    object \n",
            " 1   Country    591 non-null    object \n",
            " 2   Confirmed  591 non-null    float64\n",
            " 3   Deaths     591 non-null    float64\n",
            " 4   Recovered  591 non-null    float64\n",
            "dtypes: float64(3), object(2)\n",
            "memory usage: 27.7+ KB\n"
          ],
          "name": "stdout"
        }
      ]
    },
    {
      "cell_type": "markdown",
      "metadata": {
        "id": "jYHQ_BeRDwE2",
        "colab_type": "text"
      },
      "source": [
        "Converting the columns with float datatype to integer"
      ]
    },
    {
      "cell_type": "code",
      "metadata": {
        "id": "oqbrtTg45UAD",
        "colab_type": "code",
        "colab": {}
      },
      "source": [
        "float_cols = ['Confirmed','Deaths', 'Recovered']\n",
        "for cols in list(float_cols):\n",
        "  covid19_sea[cols] = covid19_sea[cols].astype('int64')"
      ],
      "execution_count": 0,
      "outputs": []
    },
    {
      "cell_type": "markdown",
      "metadata": {
        "id": "tYdgD8_vD4iy",
        "colab_type": "text"
      },
      "source": [
        "The Date column is in string format (datatype:object). Converting this to datetime datatype"
      ]
    },
    {
      "cell_type": "code",
      "metadata": {
        "id": "nxFPKziTDSjC",
        "colab_type": "code",
        "colab": {}
      },
      "source": [
        "covid19_sea['Date'] = pd.to_datetime(covid19_sea['Date'])"
      ],
      "execution_count": 0,
      "outputs": []
    },
    {
      "cell_type": "markdown",
      "metadata": {
        "id": "xN_Xd_NnEbiW",
        "colab_type": "text"
      },
      "source": [
        "Running the describe() function to view statistical details of the dataset"
      ]
    },
    {
      "cell_type": "code",
      "metadata": {
        "id": "cKFcoFBW5ffj",
        "colab_type": "code",
        "outputId": "8629972b-4e27-41cc-f5cf-c993f2c89a71",
        "colab": {
          "base_uri": "https://localhost:8080/",
          "height": 282
        }
      },
      "source": [
        "covid19_sea.describe()"
      ],
      "execution_count": 0,
      "outputs": [
        {
          "output_type": "execute_result",
          "data": {
            "text/html": [
              "<div>\n",
              "<style scoped>\n",
              "    .dataframe tbody tr th:only-of-type {\n",
              "        vertical-align: middle;\n",
              "    }\n",
              "\n",
              "    .dataframe tbody tr th {\n",
              "        vertical-align: top;\n",
              "    }\n",
              "\n",
              "    .dataframe thead th {\n",
              "        text-align: right;\n",
              "    }\n",
              "</style>\n",
              "<table border=\"1\" class=\"dataframe\">\n",
              "  <thead>\n",
              "    <tr style=\"text-align: right;\">\n",
              "      <th></th>\n",
              "      <th>Confirmed</th>\n",
              "      <th>Deaths</th>\n",
              "      <th>Recovered</th>\n",
              "    </tr>\n",
              "  </thead>\n",
              "  <tbody>\n",
              "    <tr>\n",
              "      <th>count</th>\n",
              "      <td>591.000000</td>\n",
              "      <td>591.000000</td>\n",
              "      <td>591.000000</td>\n",
              "    </tr>\n",
              "    <tr>\n",
              "      <th>mean</th>\n",
              "      <td>509.030457</td>\n",
              "      <td>16.807107</td>\n",
              "      <td>102.157360</td>\n",
              "    </tr>\n",
              "    <tr>\n",
              "      <th>std</th>\n",
              "      <td>1050.023572</td>\n",
              "      <td>54.580465</td>\n",
              "      <td>282.541505</td>\n",
              "    </tr>\n",
              "    <tr>\n",
              "      <th>min</th>\n",
              "      <td>0.000000</td>\n",
              "      <td>0.000000</td>\n",
              "      <td>0.000000</td>\n",
              "    </tr>\n",
              "    <tr>\n",
              "      <th>25%</th>\n",
              "      <td>10.000000</td>\n",
              "      <td>0.000000</td>\n",
              "      <td>1.000000</td>\n",
              "    </tr>\n",
              "    <tr>\n",
              "      <th>50%</th>\n",
              "      <td>50.000000</td>\n",
              "      <td>0.000000</td>\n",
              "      <td>16.000000</td>\n",
              "    </tr>\n",
              "    <tr>\n",
              "      <th>75%</th>\n",
              "      <td>244.000000</td>\n",
              "      <td>1.000000</td>\n",
              "      <td>65.500000</td>\n",
              "    </tr>\n",
              "    <tr>\n",
              "      <th>max</th>\n",
              "      <td>5223.000000</td>\n",
              "      <td>459.000000</td>\n",
              "      <td>2478.000000</td>\n",
              "    </tr>\n",
              "  </tbody>\n",
              "</table>\n",
              "</div>"
            ],
            "text/plain": [
              "         Confirmed      Deaths    Recovered\n",
              "count   591.000000  591.000000   591.000000\n",
              "mean    509.030457   16.807107   102.157360\n",
              "std    1050.023572   54.580465   282.541505\n",
              "min       0.000000    0.000000     0.000000\n",
              "25%      10.000000    0.000000     1.000000\n",
              "50%      50.000000    0.000000    16.000000\n",
              "75%     244.000000    1.000000    65.500000\n",
              "max    5223.000000  459.000000  2478.000000"
            ]
          },
          "metadata": {
            "tags": []
          },
          "execution_count": 98
        }
      ]
    },
    {
      "cell_type": "markdown",
      "metadata": {
        "id": "b_IWwQezEkJL",
        "colab_type": "text"
      },
      "source": [
        "Creating a new column 'Cases' which is just the sum of the three columns 'Confirmed', 'Recovered', 'Deaths'"
      ]
    },
    {
      "cell_type": "code",
      "metadata": {
        "id": "pBTemew55idK",
        "colab_type": "code",
        "outputId": "f0d68a08-453b-472d-cae3-db48d3d09af5",
        "colab": {
          "base_uri": "https://localhost:8080/",
          "height": 194
        }
      },
      "source": [
        "covid19_sea['Cases'] = df[['Confirmed', 'Recovered', 'Deaths']].sum(axis=1)\n",
        "covid19_sea.head()"
      ],
      "execution_count": 0,
      "outputs": [
        {
          "output_type": "execute_result",
          "data": {
            "text/html": [
              "<div>\n",
              "<style scoped>\n",
              "    .dataframe tbody tr th:only-of-type {\n",
              "        vertical-align: middle;\n",
              "    }\n",
              "\n",
              "    .dataframe tbody tr th {\n",
              "        vertical-align: top;\n",
              "    }\n",
              "\n",
              "    .dataframe thead th {\n",
              "        text-align: right;\n",
              "    }\n",
              "</style>\n",
              "<table border=\"1\" class=\"dataframe\">\n",
              "  <thead>\n",
              "    <tr style=\"text-align: right;\">\n",
              "      <th></th>\n",
              "      <th>Date</th>\n",
              "      <th>Country</th>\n",
              "      <th>Confirmed</th>\n",
              "      <th>Deaths</th>\n",
              "      <th>Recovered</th>\n",
              "      <th>Cases</th>\n",
              "    </tr>\n",
              "  </thead>\n",
              "  <tbody>\n",
              "    <tr>\n",
              "      <th>36</th>\n",
              "      <td>2020-01-22</td>\n",
              "      <td>Thailand</td>\n",
              "      <td>2</td>\n",
              "      <td>0</td>\n",
              "      <td>0</td>\n",
              "      <td>2.0</td>\n",
              "    </tr>\n",
              "    <tr>\n",
              "      <th>74</th>\n",
              "      <td>2020-01-23</td>\n",
              "      <td>Thailand</td>\n",
              "      <td>3</td>\n",
              "      <td>0</td>\n",
              "      <td>0</td>\n",
              "      <td>3.0</td>\n",
              "    </tr>\n",
              "    <tr>\n",
              "      <th>76</th>\n",
              "      <td>2020-01-23</td>\n",
              "      <td>Singapore</td>\n",
              "      <td>1</td>\n",
              "      <td>0</td>\n",
              "      <td>0</td>\n",
              "      <td>1.0</td>\n",
              "    </tr>\n",
              "    <tr>\n",
              "      <th>77</th>\n",
              "      <td>2020-01-23</td>\n",
              "      <td>Philippines</td>\n",
              "      <td>0</td>\n",
              "      <td>0</td>\n",
              "      <td>0</td>\n",
              "      <td>0.0</td>\n",
              "    </tr>\n",
              "    <tr>\n",
              "      <th>78</th>\n",
              "      <td>2020-01-23</td>\n",
              "      <td>Malaysia</td>\n",
              "      <td>0</td>\n",
              "      <td>0</td>\n",
              "      <td>0</td>\n",
              "      <td>0.0</td>\n",
              "    </tr>\n",
              "  </tbody>\n",
              "</table>\n",
              "</div>"
            ],
            "text/plain": [
              "         Date      Country  Confirmed  Deaths  Recovered  Cases\n",
              "36 2020-01-22     Thailand          2       0          0    2.0\n",
              "74 2020-01-23     Thailand          3       0          0    3.0\n",
              "76 2020-01-23    Singapore          1       0          0    1.0\n",
              "77 2020-01-23  Philippines          0       0          0    0.0\n",
              "78 2020-01-23     Malaysia          0       0          0    0.0"
            ]
          },
          "metadata": {
            "tags": []
          },
          "execution_count": 99
        }
      ]
    },
    {
      "cell_type": "markdown",
      "metadata": {
        "id": "MJrHX4vME2kH",
        "colab_type": "text"
      },
      "source": [
        "Since we want a time series plot. We create a pivot datsframe with Date as the index, columns will be the SouthEast Asian countries and the values for the columns will be the 'Confirmed' cases per country on that date"
      ]
    },
    {
      "cell_type": "code",
      "metadata": {
        "id": "yQiCd2qd6OD9",
        "colab_type": "code",
        "outputId": "308458af-234a-4d7c-e263-4d5466fe1b2c",
        "colab": {
          "base_uri": "https://localhost:8080/",
          "height": 223
        }
      },
      "source": [
        "covid19_sea_pivot = covid19_sea.pivot(index='Date', columns='Country', values='Confirmed')\n",
        "covid19_sea_pivot.head()"
      ],
      "execution_count": 0,
      "outputs": [
        {
          "output_type": "execute_result",
          "data": {
            "text/html": [
              "<div>\n",
              "<style scoped>\n",
              "    .dataframe tbody tr th:only-of-type {\n",
              "        vertical-align: middle;\n",
              "    }\n",
              "\n",
              "    .dataframe tbody tr th {\n",
              "        vertical-align: top;\n",
              "    }\n",
              "\n",
              "    .dataframe thead th {\n",
              "        text-align: right;\n",
              "    }\n",
              "</style>\n",
              "<table border=\"1\" class=\"dataframe\">\n",
              "  <thead>\n",
              "    <tr style=\"text-align: right;\">\n",
              "      <th>Country</th>\n",
              "      <th>Brunei</th>\n",
              "      <th>Cambodia</th>\n",
              "      <th>Indonesia</th>\n",
              "      <th>Laos</th>\n",
              "      <th>Malaysia</th>\n",
              "      <th>Philippines</th>\n",
              "      <th>Singapore</th>\n",
              "      <th>Thailand</th>\n",
              "      <th>Vietnam</th>\n",
              "    </tr>\n",
              "    <tr>\n",
              "      <th>Date</th>\n",
              "      <th></th>\n",
              "      <th></th>\n",
              "      <th></th>\n",
              "      <th></th>\n",
              "      <th></th>\n",
              "      <th></th>\n",
              "      <th></th>\n",
              "      <th></th>\n",
              "      <th></th>\n",
              "    </tr>\n",
              "  </thead>\n",
              "  <tbody>\n",
              "    <tr>\n",
              "      <th>2020-01-22</th>\n",
              "      <td>NaN</td>\n",
              "      <td>NaN</td>\n",
              "      <td>NaN</td>\n",
              "      <td>NaN</td>\n",
              "      <td>NaN</td>\n",
              "      <td>NaN</td>\n",
              "      <td>NaN</td>\n",
              "      <td>2.0</td>\n",
              "      <td>NaN</td>\n",
              "    </tr>\n",
              "    <tr>\n",
              "      <th>2020-01-23</th>\n",
              "      <td>NaN</td>\n",
              "      <td>NaN</td>\n",
              "      <td>NaN</td>\n",
              "      <td>NaN</td>\n",
              "      <td>0.0</td>\n",
              "      <td>0.0</td>\n",
              "      <td>1.0</td>\n",
              "      <td>3.0</td>\n",
              "      <td>2.0</td>\n",
              "    </tr>\n",
              "    <tr>\n",
              "      <th>2020-01-24</th>\n",
              "      <td>NaN</td>\n",
              "      <td>NaN</td>\n",
              "      <td>NaN</td>\n",
              "      <td>NaN</td>\n",
              "      <td>NaN</td>\n",
              "      <td>NaN</td>\n",
              "      <td>3.0</td>\n",
              "      <td>5.0</td>\n",
              "      <td>2.0</td>\n",
              "    </tr>\n",
              "    <tr>\n",
              "      <th>2020-01-25</th>\n",
              "      <td>NaN</td>\n",
              "      <td>NaN</td>\n",
              "      <td>NaN</td>\n",
              "      <td>NaN</td>\n",
              "      <td>3.0</td>\n",
              "      <td>NaN</td>\n",
              "      <td>3.0</td>\n",
              "      <td>7.0</td>\n",
              "      <td>2.0</td>\n",
              "    </tr>\n",
              "    <tr>\n",
              "      <th>2020-01-26</th>\n",
              "      <td>NaN</td>\n",
              "      <td>NaN</td>\n",
              "      <td>NaN</td>\n",
              "      <td>NaN</td>\n",
              "      <td>4.0</td>\n",
              "      <td>NaN</td>\n",
              "      <td>4.0</td>\n",
              "      <td>8.0</td>\n",
              "      <td>2.0</td>\n",
              "    </tr>\n",
              "  </tbody>\n",
              "</table>\n",
              "</div>"
            ],
            "text/plain": [
              "Country     Brunei  Cambodia  Indonesia  ...  Singapore  Thailand  Vietnam\n",
              "Date                                     ...                              \n",
              "2020-01-22     NaN       NaN        NaN  ...        NaN       2.0      NaN\n",
              "2020-01-23     NaN       NaN        NaN  ...        1.0       3.0      2.0\n",
              "2020-01-24     NaN       NaN        NaN  ...        3.0       5.0      2.0\n",
              "2020-01-25     NaN       NaN        NaN  ...        3.0       7.0      2.0\n",
              "2020-01-26     NaN       NaN        NaN  ...        4.0       8.0      2.0\n",
              "\n",
              "[5 rows x 9 columns]"
            ]
          },
          "metadata": {
            "tags": []
          },
          "execution_count": 100
        }
      ]
    },
    {
      "cell_type": "code",
      "metadata": {
        "id": "FpNz9AwD67yJ",
        "colab_type": "code",
        "outputId": "ad4b0fd9-9220-4dd5-a655-fc11405e35d8",
        "colab": {
          "base_uri": "https://localhost:8080/",
          "height": 399
        }
      },
      "source": [
        "covid19_sea_pivot.reset_index('Date')\n",
        "#covid19_sea_pivot.set_index(['Date'],inplace=True)"
      ],
      "execution_count": 0,
      "outputs": [
        {
          "output_type": "execute_result",
          "data": {
            "text/html": [
              "<div>\n",
              "<style scoped>\n",
              "    .dataframe tbody tr th:only-of-type {\n",
              "        vertical-align: middle;\n",
              "    }\n",
              "\n",
              "    .dataframe tbody tr th {\n",
              "        vertical-align: top;\n",
              "    }\n",
              "\n",
              "    .dataframe thead th {\n",
              "        text-align: right;\n",
              "    }\n",
              "</style>\n",
              "<table border=\"1\" class=\"dataframe\">\n",
              "  <thead>\n",
              "    <tr style=\"text-align: right;\">\n",
              "      <th>Country</th>\n",
              "      <th>Date</th>\n",
              "      <th>Brunei</th>\n",
              "      <th>Cambodia</th>\n",
              "      <th>Indonesia</th>\n",
              "      <th>Laos</th>\n",
              "      <th>Malaysia</th>\n",
              "      <th>Philippines</th>\n",
              "      <th>Singapore</th>\n",
              "      <th>Thailand</th>\n",
              "      <th>Vietnam</th>\n",
              "    </tr>\n",
              "  </thead>\n",
              "  <tbody>\n",
              "    <tr>\n",
              "      <th>0</th>\n",
              "      <td>2020-01-22</td>\n",
              "      <td>NaN</td>\n",
              "      <td>NaN</td>\n",
              "      <td>NaN</td>\n",
              "      <td>NaN</td>\n",
              "      <td>NaN</td>\n",
              "      <td>NaN</td>\n",
              "      <td>NaN</td>\n",
              "      <td>2.0</td>\n",
              "      <td>NaN</td>\n",
              "    </tr>\n",
              "    <tr>\n",
              "      <th>1</th>\n",
              "      <td>2020-01-23</td>\n",
              "      <td>NaN</td>\n",
              "      <td>NaN</td>\n",
              "      <td>NaN</td>\n",
              "      <td>NaN</td>\n",
              "      <td>0.0</td>\n",
              "      <td>0.0</td>\n",
              "      <td>1.0</td>\n",
              "      <td>3.0</td>\n",
              "      <td>2.0</td>\n",
              "    </tr>\n",
              "    <tr>\n",
              "      <th>2</th>\n",
              "      <td>2020-01-24</td>\n",
              "      <td>NaN</td>\n",
              "      <td>NaN</td>\n",
              "      <td>NaN</td>\n",
              "      <td>NaN</td>\n",
              "      <td>NaN</td>\n",
              "      <td>NaN</td>\n",
              "      <td>3.0</td>\n",
              "      <td>5.0</td>\n",
              "      <td>2.0</td>\n",
              "    </tr>\n",
              "    <tr>\n",
              "      <th>3</th>\n",
              "      <td>2020-01-25</td>\n",
              "      <td>NaN</td>\n",
              "      <td>NaN</td>\n",
              "      <td>NaN</td>\n",
              "      <td>NaN</td>\n",
              "      <td>3.0</td>\n",
              "      <td>NaN</td>\n",
              "      <td>3.0</td>\n",
              "      <td>7.0</td>\n",
              "      <td>2.0</td>\n",
              "    </tr>\n",
              "    <tr>\n",
              "      <th>4</th>\n",
              "      <td>2020-01-26</td>\n",
              "      <td>NaN</td>\n",
              "      <td>NaN</td>\n",
              "      <td>NaN</td>\n",
              "      <td>NaN</td>\n",
              "      <td>4.0</td>\n",
              "      <td>NaN</td>\n",
              "      <td>4.0</td>\n",
              "      <td>8.0</td>\n",
              "      <td>2.0</td>\n",
              "    </tr>\n",
              "    <tr>\n",
              "      <th>...</th>\n",
              "      <td>...</td>\n",
              "      <td>...</td>\n",
              "      <td>...</td>\n",
              "      <td>...</td>\n",
              "      <td>...</td>\n",
              "      <td>...</td>\n",
              "      <td>...</td>\n",
              "      <td>...</td>\n",
              "      <td>...</td>\n",
              "      <td>...</td>\n",
              "    </tr>\n",
              "    <tr>\n",
              "      <th>79</th>\n",
              "      <td>2020-04-10</td>\n",
              "      <td>136.0</td>\n",
              "      <td>119.0</td>\n",
              "      <td>3512.0</td>\n",
              "      <td>16.0</td>\n",
              "      <td>4346.0</td>\n",
              "      <td>4195.0</td>\n",
              "      <td>2108.0</td>\n",
              "      <td>2473.0</td>\n",
              "      <td>257.0</td>\n",
              "    </tr>\n",
              "    <tr>\n",
              "      <th>80</th>\n",
              "      <td>2020-04-11</td>\n",
              "      <td>136.0</td>\n",
              "      <td>120.0</td>\n",
              "      <td>3842.0</td>\n",
              "      <td>18.0</td>\n",
              "      <td>4530.0</td>\n",
              "      <td>4428.0</td>\n",
              "      <td>2299.0</td>\n",
              "      <td>2518.0</td>\n",
              "      <td>258.0</td>\n",
              "    </tr>\n",
              "    <tr>\n",
              "      <th>81</th>\n",
              "      <td>2020-04-12</td>\n",
              "      <td>136.0</td>\n",
              "      <td>122.0</td>\n",
              "      <td>4241.0</td>\n",
              "      <td>19.0</td>\n",
              "      <td>4683.0</td>\n",
              "      <td>4648.0</td>\n",
              "      <td>2532.0</td>\n",
              "      <td>2551.0</td>\n",
              "      <td>262.0</td>\n",
              "    </tr>\n",
              "    <tr>\n",
              "      <th>82</th>\n",
              "      <td>2020-04-13</td>\n",
              "      <td>136.0</td>\n",
              "      <td>122.0</td>\n",
              "      <td>4557.0</td>\n",
              "      <td>19.0</td>\n",
              "      <td>4817.0</td>\n",
              "      <td>4932.0</td>\n",
              "      <td>2918.0</td>\n",
              "      <td>2579.0</td>\n",
              "      <td>265.0</td>\n",
              "    </tr>\n",
              "    <tr>\n",
              "      <th>83</th>\n",
              "      <td>2020-04-14</td>\n",
              "      <td>136.0</td>\n",
              "      <td>122.0</td>\n",
              "      <td>4839.0</td>\n",
              "      <td>19.0</td>\n",
              "      <td>4987.0</td>\n",
              "      <td>5223.0</td>\n",
              "      <td>3252.0</td>\n",
              "      <td>2613.0</td>\n",
              "      <td>266.0</td>\n",
              "    </tr>\n",
              "  </tbody>\n",
              "</table>\n",
              "<p>84 rows × 10 columns</p>\n",
              "</div>"
            ],
            "text/plain": [
              "Country       Date  Brunei  Cambodia  ...  Singapore  Thailand  Vietnam\n",
              "0       2020-01-22     NaN       NaN  ...        NaN       2.0      NaN\n",
              "1       2020-01-23     NaN       NaN  ...        1.0       3.0      2.0\n",
              "2       2020-01-24     NaN       NaN  ...        3.0       5.0      2.0\n",
              "3       2020-01-25     NaN       NaN  ...        3.0       7.0      2.0\n",
              "4       2020-01-26     NaN       NaN  ...        4.0       8.0      2.0\n",
              "..             ...     ...       ...  ...        ...       ...      ...\n",
              "79      2020-04-10   136.0     119.0  ...     2108.0    2473.0    257.0\n",
              "80      2020-04-11   136.0     120.0  ...     2299.0    2518.0    258.0\n",
              "81      2020-04-12   136.0     122.0  ...     2532.0    2551.0    262.0\n",
              "82      2020-04-13   136.0     122.0  ...     2918.0    2579.0    265.0\n",
              "83      2020-04-14   136.0     122.0  ...     3252.0    2613.0    266.0\n",
              "\n",
              "[84 rows x 10 columns]"
            ]
          },
          "metadata": {
            "tags": []
          },
          "execution_count": 101
        }
      ]
    },
    {
      "cell_type": "markdown",
      "metadata": {
        "id": "H46YHd81FfLQ",
        "colab_type": "text"
      },
      "source": [
        "After running the pivot, we can see that there are NaN. We replaced these with zero and convert each columns to integer"
      ]
    },
    {
      "cell_type": "code",
      "metadata": {
        "id": "MaB8INnC9iFk",
        "colab_type": "code",
        "colab": {}
      },
      "source": [
        "covid19_sea_pivot.fillna(0,axis=0,inplace=True)"
      ],
      "execution_count": 0,
      "outputs": []
    },
    {
      "cell_type": "code",
      "metadata": {
        "id": "spHUclWo9-Mg",
        "colab_type": "code",
        "colab": {}
      },
      "source": [
        "countries = 'Brunei\tCambodia\tIndonesia\tLaos\tMalaysia\tPhilippines\tSingapore\tThailand\tVietnam'.split('\\t')"
      ],
      "execution_count": 0,
      "outputs": []
    },
    {
      "cell_type": "code",
      "metadata": {
        "id": "-cHsNkdj-Q14",
        "colab_type": "code",
        "colab": {}
      },
      "source": [
        "for country in list(countries):\n",
        "  covid19_sea_pivot[country] = covid19_sea_pivot[country].astype('int64')"
      ],
      "execution_count": 0,
      "outputs": []
    },
    {
      "cell_type": "markdown",
      "metadata": {
        "id": "gtWkt7QYF9ko",
        "colab_type": "text"
      },
      "source": [
        "Creating a plot a time series plot for the confirmed case for each countries"
      ]
    },
    {
      "cell_type": "code",
      "metadata": {
        "id": "0-ybMUSx-4OF",
        "colab_type": "code",
        "outputId": "2e27ab55-9f4b-4325-fbb8-07b7641d0a90",
        "colab": {
          "base_uri": "https://localhost:8080/",
          "height": 578
        }
      },
      "source": [
        "#list the available matplot style\n",
        "#plt.style.available\n",
        "\n",
        "#plt.style.use('tableau-colorblind10')\n",
        "plt.style.use('dark_background')\n",
        "colors = {'Malaysia':'#0aaff0', 'Brunei':'#045275', 'Cambodia':'#089099', 'Indonesia':'#045275', 'Laos':'#FCDE9C', 'Philippines':'#D00150','Singapore':'#dcb339','Thailand':'#397adc','Vietnam':'#dc6a39'}\n",
        "\n",
        "plot = covid19_sea_pivot.plot(figsize=(12,8), color=list(colors.values()), linewidth=2, legend=False)\n",
        "plot.yaxis.set_major_formatter(ticker.StrMethodFormatter('{x:,.0f}'))\n",
        "plot.grid(color='#d4d4d4')\n",
        "plot.set_xlabel('Date')\n",
        "plot.set_ylabel('# of Confirmed Cases')\n",
        "\n",
        "for country in list(colors.keys()):\n",
        "    plot.text(x = covid19_sea_pivot.index[-1], y = covid19_sea_pivot[country].max(), color = colors[country], s = country, weight = 'bold')\n",
        "\n",
        "plot.text(x = covid19_sea_pivot.index[1], y = int(covid19_sea_pivot.max().max())+500, s = \"COVID-19 Cases of SouthEast Asian Nations\", fontsize = 12, weight = 'bold', alpha = .75)"
      ],
      "execution_count": 0,
      "outputs": [
        {
          "output_type": "execute_result",
          "data": {
            "text/plain": [
              "Text(2020-01-23 00:00:00, 5723, 'COVID-19 Cases of SouthEast Asian Nations')"
            ]
          },
          "metadata": {
            "tags": []
          },
          "execution_count": 130
        },
        {
          "output_type": "display_data",
          "data": {
            "image/png": "[encoded data removed]",
            "text/plain": [
              "<Figure size 864x576 with 1 Axes>"
            ]
          },
          "metadata": {
            "tags": []
          }
        }
      ]
    },
    {
      "cell_type": "code",
      "metadata": {
        "id": "3lxV4IjLQ7rF",
        "colab_type": "code",
        "outputId": "ed1b06a1-db42-4074-ea74-fa217fc1f18d",
        "colab": {
          "base_uri": "https://localhost:8080/",
          "height": 35
        }
      },
      "source": [
        "colors['Vietnam']"
      ],
      "execution_count": 0,
      "outputs": [
        {
          "output_type": "execute_result",
          "data": {
            "text/plain": [
              "'#dc6a39'"
            ]
          },
          "metadata": {
            "tags": []
          },
          "execution_count": 119
        }
      ]
    },
    {
      "cell_type": "markdown",
      "metadata": {
        "id": "ItdhU4e2GL6z",
        "colab_type": "text"
      },
      "source": [
        ""
      ]
    },
    {
      "cell_type": "markdown",
      "metadata": {
        "id": "citRNoU4GSGj",
        "colab_type": "text"
      },
      "source": [
        "Creating a dictionary of countries and the current population. \n",
        "Computing the spread per 100000 population"
      ]
    },
    {
      "cell_type": "code",
      "metadata": {
        "id": "PzrkXJF5BUsi",
        "colab_type": "code",
        "colab": {}
      },
      "source": [
        "\n",
        "#create a population variable which contain a dictionary of population per country\n",
        "population = {'Brunei':437479, 'Cambodia':16718965, 'Indonesia':273523615, 'Laos':7275560, 'Malaysia':32365999, 'Philippines':109581078, 'Singapore':5850342, 'Thailand':69799978, 'Vietnam':97338579,}\n",
        "\n",
        "covid_perCapita = covid19_sea_pivot.copy()\n",
        "\n",
        "for country in list(covid_perCapita.columns):\n",
        "  #compute the cases per 100,000 people\n",
        "  covid_perCapita[country] = (covid_perCapita[country]/population[country])*100000"
      ],
      "execution_count": 0,
      "outputs": []
    },
    {
      "cell_type": "markdown",
      "metadata": {
        "id": "RAktLSWLHUDh",
        "colab_type": "text"
      },
      "source": [
        "Creating a plot a time series plot for the covid cases spread per 100000 population for each countries"
      ]
    },
    {
      "cell_type": "code",
      "metadata": {
        "id": "9fPJqF__O3rU",
        "colab_type": "code",
        "outputId": "6f4a205c-531d-4e62-8838-0fda1a85834d",
        "colab": {
          "base_uri": "https://localhost:8080/",
          "height": 585
        }
      },
      "source": [
        "#list the available matplot style\n",
        "#plt.style.available\n",
        "\n",
        "#plt.style.use('tableau-colorblind10')\n",
        "plt.style.use('dark_background')\n",
        "colors = {'Malaysia':'#0aaff0', 'Brunei':'#045275', 'Cambodia':'#089099', 'Indonesia':'#045275', 'Laos':'#FCDE9C', 'Philippines':'#D00150','Singapore':'#dcb339','Thailand':'#397adc','Vietnam':'#dc6a39'}\n",
        "\n",
        "plot = covid_perCapita.plot(figsize=(12,8), color=list(colors.values()), linewidth=2, legend=False)\n",
        "plot.yaxis.set_major_formatter(ticker.StrMethodFormatter('{x:,.0f}'))\n",
        "plot.grid(color='#d4d4d4')\n",
        "plot.set_xlabel('Date')\n",
        "plot.set_ylabel('COVID Cases Per 100000 Population')\n",
        "\n",
        "for country in list(colors.keys()):\n",
        "  if country == 'Vietnam':\n",
        "    plot.text(x = covid_perCapita.index[-1], y = covid_perCapita[country].max()-2, color = colors[country], s = country, weight = 'bold')\n",
        "  else:\n",
        "    plot.text(x = covid_perCapita.index[-1], y = covid_perCapita[country].max(), color = colors[country], s = country, weight = 'bold')\n",
        "\n",
        "plot.text(x = covid_perCapita.index[1], y = int(covid_perCapita.max().max())+7, s = \"COVID-19 Cases Per 100000 Population of SouthEast Asian Nations\", fontsize = 12, weight = 'bold', alpha = .75)\n",
        "plot.text(x = covid_perCapita.index[1], y = int(covid_perCapita.max().max())+5, s = \"(Number of Cases / Population) * 100000\", fontsize = 8, alpha = .75)"
      ],
      "execution_count": 0,
      "outputs": [
        {
          "output_type": "execute_result",
          "data": {
            "text/plain": [
              "Text(2020-01-23 00:00:00, 60, '(Number of Cases / Population) * 100000')"
            ]
          },
          "metadata": {
            "tags": []
          },
          "execution_count": 132
        },
        {
          "output_type": "display_data",
          "data": {
            "image/png": "[encoded data removed]",
            "text/plain": [
              "<Figure size 864x576 with 1 Axes>"
            ]
          },
          "metadata": {
            "tags": []
          }
        }
      ]
    },
    {
      "cell_type": "code",
      "metadata": {
        "id": "7_Dx41GwPTuG",
        "colab_type": "code",
        "colab": {}
      },
      "source": [
        ""
      ],
      "execution_count": 0,
      "outputs": []
    }
  ]
}