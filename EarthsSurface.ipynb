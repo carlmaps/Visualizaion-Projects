{
  "nbformat": 4,
  "nbformat_minor": 0,
  "metadata": {
    "colab": {
      "name": "EarthsSurface.ipynb",
      "provenance": [],
      "private_outputs": true,
      "collapsed_sections": [],
      "authorship_tag": "ABX9TyMCoujxkMnWFzb5lUP8QgL3",
      "include_colab_link": true
    },
    "kernelspec": {
      "name": "python3",
      "display_name": "Python 3"
    }
  },
  "cells": [
    {
      "cell_type": "markdown",
      "metadata": {
        "id": "view-in-github",
        "colab_type": "text"
      },
      "source": [
        "<a href=\"https://colab.research.google.com/github/carlmaps/Visualizaion-Projects/blob/master/EarthsSurface.ipynb\" target=\"_parent\"><img src=\"https://colab.research.google.com/assets/colab-badge.svg\" alt=\"Open In Colab\"/></a>"
      ]
    },
    {
      "cell_type": "markdown",
      "metadata": {
        "id": "ElbAmYOy0DI8",
        "colab_type": "text"
      },
      "source": [
        "#### EarthsSurface\n",
        "This is just a simple data visulaization of the earth surface temperature using the data set form Berkely Earth Surface Temperature (BEST)"
      ]
    },
    {
      "cell_type": "code",
      "metadata": {
        "id": "jk1IKjkpWsaK",
        "colab_type": "code",
        "colab": {}
      },
      "source": [
        "import numpy as np\n",
        "import pandas as pd\n",
        "import matplotlib.pyplot as plt\n",
        "import seaborn as sns\n",
        "import matplotlib.ticker as ticker\n",
        "import plotly as py\n",
        "import plotly.express as px\n",
        "import plotly.io as pio\n",
        "import plotly.graph_objs as go\n",
        "from plotly.subplots import make_subplots\n",
        "from plotly.offline import download_plotlyjs, init_notebook_mode, plot, iplot\n",
        "\n",
        "\n",
        "%matplotlib inline\n",
        "init_notebook_mode(connected=True)\n",
        "\n",
        "pio.renderers.default = 'colab'"
      ],
      "execution_count": 0,
      "outputs": []
    },
    {
      "cell_type": "code",
      "metadata": {
        "id": "3Zzg9UGQWy2i",
        "colab_type": "code",
        "colab": {}
      },
      "source": [
        "!pip install kaggle\n",
        "# Import kaggle.json from google drive\n",
        "# This snippet will output a link which needs authentication from any google account\n",
        "from googleapiclient.discovery import build\n",
        "import io, os\n",
        "from googleapiclient.http import MediaIoBaseDownload\n",
        "from google.colab import auth\n",
        "auth.authenticate_user()\n",
        "drive_service = build('drive', 'v3')\n",
        "results = drive_service.files().list(\n",
        "    q=\"name = 'kaggle.json'\", fields=\"files(id)\").execute()\n",
        "kaggle_api_key = results.get('files', [])\n",
        "# print(kaggle_api_key)\n",
        "filename = \"/content/.kaggle/kaggle.json\"\n",
        "os.makedirs(os.path.dirname(filename), exist_ok=True)\n",
        "request = drive_service.files().get_media(fileId=kaggle_api_key[0]['id'])\n",
        "fh = io.FileIO(filename, 'wb')\n",
        "downloader = MediaIoBaseDownload(fh, request)\n",
        "done = False\n",
        "while done is False:\n",
        "    status, done = downloader.next_chunk()\n",
        "    print(\"Download %d%%.\" % int(status.progress() * 100))\n",
        "os.chmod(filename, 600)\n",
        "\n",
        "! mkdir ~/.kaggle\n",
        "! cp /content/.kaggle/kaggle.json ~/.kaggle/\n",
        "! chmod 600 ~/.kaggle/kaggle.json\n",
        "! kaggle datasets download -d berkeleyearth/climate-change-earth-surface-temperature-data\n",
        "\n",
        "!mkdir earthsurface\n",
        "!unzip climate-change-earth-surface-temperature-data.zip -d earthsurface"
      ],
      "execution_count": 0,
      "outputs": []
    },
    {
      "cell_type": "code",
      "metadata": {
        "id": "mVV5yV1pbEpR",
        "colab_type": "code",
        "colab": {}
      },
      "source": [
        "df = pd.read_csv('/content/earthsurface/GlobalTemperatures.csv')\n",
        "df.head()"
      ],
      "execution_count": 0,
      "outputs": []
    },
    {
      "cell_type": "markdown",
      "metadata": {
        "id": "iHmJdc0rcIJ9",
        "colab_type": "text"
      },
      "source": [
        "**Date**: *starts in 1750 for average land temperature and 1850 for max and min land temperatures and global ocean and land temperatures* <br/>\n",
        "**LandAverageTemperature**: *global average land temperature in celsius* <br/>\n",
        "**LandAverageTemperatureUncertainty**: *the 95% confidence interval around the average* <br/>\n",
        "**LandMaxTemperature**: *global average maximum land temperature in celsius* <br/>\n",
        "**LandMaxTemperatureUncertainty**:* the 95% confidence interval around the maximum land temperature* <br/>\n",
        "**LandMinTemperature**: *global average minimum land temperature in celsius* <br/>\n",
        "**LandMinTemperatureUncertainty**: *the 95% confidence interval around the minimum land temperature* <br/>\n",
        "**LandAndOceanAverageTemperature**: *global average land and ocean temperature in celsius* <br/>\n",
        "**LandAndOceanAverageTemperatureUncertainty**: *the 95% confidence interval around the global average land and ocean temperature*"
      ]
    },
    {
      "cell_type": "code",
      "metadata": {
        "id": "ZTki20YmburP",
        "colab_type": "code",
        "colab": {}
      },
      "source": [
        "df.shape"
      ],
      "execution_count": 0,
      "outputs": []
    },
    {
      "cell_type": "code",
      "metadata": {
        "id": "VOpEBmQ7dhMP",
        "colab_type": "code",
        "colab": {}
      },
      "source": [
        "df.info()"
      ],
      "execution_count": 0,
      "outputs": []
    },
    {
      "cell_type": "code",
      "metadata": {
        "id": "FBUriXQvdk3_",
        "colab_type": "code",
        "colab": {}
      },
      "source": [
        "df.describe().transpose()"
      ],
      "execution_count": 0,
      "outputs": []
    },
    {
      "cell_type": "code",
      "metadata": {
        "id": "IOY3G1W3hM_-",
        "colab_type": "code",
        "colab": {}
      },
      "source": [
        "df.isna().sum()"
      ],
      "execution_count": 0,
      "outputs": []
    },
    {
      "cell_type": "code",
      "metadata": {
        "id": "uFWapdiWhdL-",
        "colab_type": "code",
        "colab": {}
      },
      "source": [
        "import missingno as mns"
      ],
      "execution_count": 0,
      "outputs": []
    },
    {
      "cell_type": "code",
      "metadata": {
        "id": "t7S1WRhnj26U",
        "colab_type": "code",
        "colab": {}
      },
      "source": [
        "mns.matrix(df, color=(0.15, 0.5, 0.2))"
      ],
      "execution_count": 0,
      "outputs": []
    },
    {
      "cell_type": "code",
      "metadata": {
        "id": "venOY9wlkG2n",
        "colab_type": "code",
        "colab": {}
      },
      "source": [
        "df_aveLandTemp = df.copy(deep=True)"
      ],
      "execution_count": 0,
      "outputs": []
    },
    {
      "cell_type": "code",
      "metadata": {
        "id": "SRdZmlDuhU36",
        "colab_type": "code",
        "colab": {}
      },
      "source": [
        "df_aveLandTemp = df_aveLandTemp[['dt','LandAverageTemperature']]"
      ],
      "execution_count": 0,
      "outputs": []
    },
    {
      "cell_type": "code",
      "metadata": {
        "id": "QbDqguMC0VZN",
        "colab_type": "code",
        "colab": {}
      },
      "source": [
        "df_aveLandTemp.isna().sum()"
      ],
      "execution_count": 0,
      "outputs": []
    },
    {
      "cell_type": "code",
      "metadata": {
        "id": "zuLnrRJw0rmp",
        "colab_type": "code",
        "colab": {}
      },
      "source": [
        "df_aveLandTemp.dropna(inplace=True)"
      ],
      "execution_count": 0,
      "outputs": []
    },
    {
      "cell_type": "code",
      "metadata": {
        "id": "ePrfeoJJ0zJ2",
        "colab_type": "code",
        "colab": {}
      },
      "source": [
        "df_aveLandTemp['dt'] = df_aveLandTemp['dt'].apply(lambda x:x[0:4])"
      ],
      "execution_count": 0,
      "outputs": []
    },
    {
      "cell_type": "code",
      "metadata": {
        "id": "HP8eNGSlnnsk",
        "colab_type": "code",
        "colab": {}
      },
      "source": [
        "df_aveLandTemp.head()"
      ],
      "execution_count": 0,
      "outputs": []
    },
    {
      "cell_type": "code",
      "metadata": {
        "id": "GwyvaUeH1ZVO",
        "colab_type": "code",
        "colab": {}
      },
      "source": [
        "df_aveLandTemp = df_aveLandTemp.groupby(df_aveLandTemp['dt'])['LandAverageTemperature'].mean().reset_index()"
      ],
      "execution_count": 0,
      "outputs": []
    },
    {
      "cell_type": "code",
      "metadata": {
        "id": "ICi8tkvi-ZOS",
        "colab_type": "code",
        "colab": {}
      },
      "source": [
        "df_aveLandTemp.dtypes"
      ],
      "execution_count": 0,
      "outputs": []
    },
    {
      "cell_type": "code",
      "metadata": {
        "id": "KwrhVz4w-oFf",
        "colab_type": "code",
        "colab": {}
      },
      "source": [
        "fig = px.line(data_frame=df_aveLandTemp, x=df_aveLandTemp.dt, \n",
        "              y=df_aveLandTemp.LandAverageTemperature,\n",
        "              template='plotly_dark', title='Earths Ave Land Temperature(°C) from 1870 - 2015')\n",
        "\n",
        "fig.show()"
      ],
      "execution_count": 0,
      "outputs": []
    },
    {
      "cell_type": "code",
      "metadata": {
        "id": "WwAXsTRyBAjH",
        "colab_type": "code",
        "colab": {}
      },
      "source": [
        "df_aveLandOceanTemp = df.copy(deep=True)"
      ],
      "execution_count": 0,
      "outputs": []
    },
    {
      "cell_type": "code",
      "metadata": {
        "id": "kzwrR1FNzYPb",
        "colab_type": "code",
        "colab": {}
      },
      "source": [
        "df_aveLandOceanTemp = df_aveLandOceanTemp[['dt','LandAndOceanAverageTemperature']]"
      ],
      "execution_count": 0,
      "outputs": []
    },
    {
      "cell_type": "code",
      "metadata": {
        "id": "J2GHU6O-znfs",
        "colab_type": "code",
        "colab": {}
      },
      "source": [
        "df_aveLandOceanTemp.isna().sum()"
      ],
      "execution_count": 0,
      "outputs": []
    },
    {
      "cell_type": "code",
      "metadata": {
        "id": "6YjwzAB9zuyL",
        "colab_type": "code",
        "colab": {}
      },
      "source": [
        "df_aveLandOceanTemp.dropna(inplace=True)"
      ],
      "execution_count": 0,
      "outputs": []
    },
    {
      "cell_type": "code",
      "metadata": {
        "id": "krD0-_ERz7P9",
        "colab_type": "code",
        "colab": {}
      },
      "source": [
        "df_aveLandOceanTemp['dt'] = df_aveLandOceanTemp['dt'].apply(lambda x:x[0:4])"
      ],
      "execution_count": 0,
      "outputs": []
    },
    {
      "cell_type": "code",
      "metadata": {
        "id": "dwAFpwg80hlF",
        "colab_type": "code",
        "colab": {}
      },
      "source": [
        "df_aveLandOceanTemp.head()"
      ],
      "execution_count": 0,
      "outputs": []
    },
    {
      "cell_type": "code",
      "metadata": {
        "id": "CNSfFYff0Ih1",
        "colab_type": "code",
        "colab": {}
      },
      "source": [
        "df_aveLandOceanTemp = df_aveLandOceanTemp.groupby(['dt'])['LandAndOceanAverageTemperature'].mean().reset_index()\n",
        "df_aveLandOceanTemp.head()"
      ],
      "execution_count": 0,
      "outputs": []
    },
    {
      "cell_type": "code",
      "metadata": {
        "id": "ywW3iFg_0Z9y",
        "colab_type": "code",
        "colab": {}
      },
      "source": [
        "fig = px.line(data_frame=df_aveLandOceanTemp, x=df_aveLandOceanTemp.dt, \n",
        "              y=df_aveLandOceanTemp.LandAndOceanAverageTemperature,\n",
        "              template='plotly_dark', title='Earths Ave Land and Ocean Temperature(°C) from 1850 - 2015')\n",
        "\n",
        "fig.show()"
      ],
      "execution_count": 0,
      "outputs": []
    },
    {
      "cell_type": "code",
      "metadata": {
        "id": "riCLfOXg1S4c",
        "colab_type": "code",
        "colab": {}
      },
      "source": [
        "dfbyCountry = pd.read_csv('/content/earthsurface/GlobalLandTemperaturesByCountry.csv')\n",
        "dfbyCountry.head()"
      ],
      "execution_count": 0,
      "outputs": []
    },
    {
      "cell_type": "code",
      "metadata": {
        "id": "CORpyiy2Y15R",
        "colab_type": "code",
        "colab": {}
      },
      "source": [
        "dfbyCountry.shape"
      ],
      "execution_count": 0,
      "outputs": []
    },
    {
      "cell_type": "code",
      "metadata": {
        "id": "NYCmrkJYaTAD",
        "colab_type": "code",
        "colab": {}
      },
      "source": [
        "dfbyCountry.describe().transpose()"
      ],
      "execution_count": 0,
      "outputs": []
    },
    {
      "cell_type": "code",
      "metadata": {
        "id": "mSPeM8n7aVnq",
        "colab_type": "code",
        "colab": {}
      },
      "source": [
        "dfbyCountry.dtypes"
      ],
      "execution_count": 0,
      "outputs": []
    },
    {
      "cell_type": "code",
      "metadata": {
        "id": "EJZcvRneasId",
        "colab_type": "code",
        "colab": {}
      },
      "source": [
        "dfbyCountry.isna().sum()"
      ],
      "execution_count": 0,
      "outputs": []
    },
    {
      "cell_type": "code",
      "metadata": {
        "id": "muaApnN8azxw",
        "colab_type": "code",
        "colab": {}
      },
      "source": [
        "dfbyCountry.Country.unique()"
      ],
      "execution_count": 0,
      "outputs": []
    },
    {
      "cell_type": "code",
      "metadata": {
        "id": "OCHtdutwc6nd",
        "colab_type": "code",
        "colab": {}
      },
      "source": [
        "dfbyCountry.rename(columns={'United Kingdom (Europe)':'United Kingdom','France (Europe)':'France','Denmark (Europe)':'Denmark','Netherlands (Europe)':'Netherlands'}, inplace=True)"
      ],
      "execution_count": 0,
      "outputs": []
    },
    {
      "cell_type": "code",
      "metadata": {
        "id": "eDzi-K2elzit",
        "colab_type": "code",
        "colab": {}
      },
      "source": [
        "dfbyCountry['dt'] = dfbyCountry['dt'].apply(lambda x:x[0:4])"
      ],
      "execution_count": 0,
      "outputs": []
    },
    {
      "cell_type": "code",
      "metadata": {
        "id": "B68EUuDsfuA5",
        "colab_type": "code",
        "colab": {}
      },
      "source": [
        "desc = dfbyCountry.groupby(['dt', 'Country'])['AverageTemperature'].mean().reset_index().sort_values(by = 'AverageTemperature' ,ascending=False)\n",
        "desc.head(10)\n",
        "#dfbyCountry.sort_values(by='AverageTemperature',ascending=False)[:10]"
      ],
      "execution_count": 0,
      "outputs": []
    },
    {
      "cell_type": "code",
      "metadata": {
        "id": "c9kD62Hlhd4i",
        "colab_type": "code",
        "colab": {}
      },
      "source": [
        "byCountry = dfbyCountry.groupby(['Country'])['AverageTemperature'].mean().reset_index().sort_values(by = 'AverageTemperature' ,ascending=False)\n",
        "byCountry.head(10)"
      ],
      "execution_count": 0,
      "outputs": []
    },
    {
      "cell_type": "code",
      "metadata": {
        "id": "1ZwvaqqqmbFl",
        "colab_type": "code",
        "colab": {}
      },
      "source": [
        "fig_byCountry = px.bar(byCountry.head(10).sort_values(by='AverageTemperature',ascending=True), x='AverageTemperature', y='Country', template=\"plotly_dark\",\n",
        "                text='AverageTemperature', orientation='h', color_discrete_sequence=px.colors.qualitative.Alphabet)\n",
        "\n",
        "fig_byCountry.update_layout(\n",
        "    title_text = 'AverageTemperature for the Top 20 Countries',\n",
        "    title_x = 0.5,  \n",
        "    )"
      ],
      "execution_count": 0,
      "outputs": []
    },
    {
      "cell_type": "code",
      "metadata": {
        "id": "21MjotyxnenN",
        "colab_type": "code",
        "colab": {}
      },
      "source": [
        "fig = go.Figure(data=go.Choropleth(\n",
        "    locations = desc['Country'],\n",
        "    locationmode = 'country names',\n",
        "    z = desc['AverageTemperature'],\n",
        "    colorscale = 'Reds',\n",
        "    marker_line_color = 'black',\n",
        "    marker_line_width = 0.5,\n",
        "    \n",
        "))\n",
        "\n",
        "fig.update_layout(\n",
        "    title_text = 'AverageTemperature',\n",
        "    title_x = 0.5,\n",
        "    template=\"plotly_white\",\n",
        "    geo=dict(\n",
        "        showframe = False,\n",
        "        showcoastlines = False,\n",
        "        projection_type = 'equirectangular'\n",
        "    )\n",
        ")\n",
        "\n",
        "fig.show()"
      ],
      "execution_count": 0,
      "outputs": []
    },
    {
      "cell_type": "code",
      "metadata": {
        "id": "_GHamz0KtwMn",
        "colab_type": "code",
        "colab": {}
      },
      "source": [
        ""
      ],
      "execution_count": 0,
      "outputs": []
    }
  ]
}