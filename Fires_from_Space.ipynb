{
  "nbformat": 4,
  "nbformat_minor": 0,
  "metadata": {
    "colab": {
      "name": "Fires from Space.ipynb",
      "provenance": [],
      "collapsed_sections": [],
      "toc_visible": true,
      "mount_file_id": "1buEGE1HfqupRwplGEG4l2IntaFjjGb3y",
      "authorship_tag": "ABX9TyPruhfEevT90WwtM6POWk1s",
      "include_colab_link": true
    },
    "kernelspec": {
      "name": "python3",
      "display_name": "Python 3"
    }
  },
  "cells": [
    {
      "cell_type": "markdown",
      "metadata": {
        "id": "view-in-github",
        "colab_type": "text"
      },
      "source": [
        "<a href=\"https://colab.research.google.com/github/carlmaps/Visualizaion-Projects/blob/master/Fires_from_Space.ipynb\" target=\"_parent\"><img src=\"https://colab.research.google.com/assets/colab-badge.svg\" alt=\"Open In Colab\"/></a>"
      ]
    },
    {
      "cell_type": "markdown",
      "metadata": {
        "id": "6APqF5jP7aV8",
        "colab_type": "text"
      },
      "source": [
        "#### Fires from Space\n",
        "This is a visualization project for the 2019-2020 Australia Bush Fire<br>\n",
        "Datasource: https://www.kaggle.com/carlosparadis/fires-from-space-australia-and-new-zeland\n",
        "\n",
        "Dataset is from NASA's observing satellite which is capable of providing real time data. NASA's Fire Information for Resource Management System (FIRMS) provides active fire data from its Moderate Resolution Imaging Spectroradiometer (MODIS) and the Visible Infrared Imaging Radiometer Suite (VIIRS)."
      ]
    },
    {
      "cell_type": "markdown",
      "metadata": {
        "id": "2ijiS3-c-8LE",
        "colab_type": "text"
      },
      "source": [
        "##### Import the libraries"
      ]
    },
    {
      "cell_type": "code",
      "metadata": {
        "id": "H8Q5aAnf-6Yl",
        "colab_type": "code",
        "outputId": "bdb0d673-8153-4e7d-ceb7-0b3ce9a56100",
        "colab": {
          "base_uri": "https://localhost:8080/",
          "height": 72
        }
      },
      "source": [
        "import numpy as np\n",
        "import pandas as pd\n",
        "import seaborn as sns\n",
        "import matplotlib.pyplot as plt\n",
        "import matplotlib.ticker as ticker\n",
        "import plotly as py\n",
        "import plotly.io as pio\n",
        "import plotly.express as px\n",
        "import plotly.graph_objs as go\n",
        "from plotly.subplots import make_subplots\n",
        "from plotly.offline import download_plotlyjs, init_notebook_mode, plot, iplot\n",
        "\n",
        "%matplotlib inline\n",
        "init_notebook_mode(connected=True)\n",
        "\n",
        "#set default renderer to colab\n",
        "pio.renderers.default = 'colab'"
      ],
      "execution_count": 0,
      "outputs": [
        {
          "output_type": "stream",
          "text": [
            "/usr/local/lib/python3.6/dist-packages/statsmodels/tools/_testing.py:19: FutureWarning: pandas.util.testing is deprecated. Use the functions in the public API at pandas.testing instead.\n",
            "  import pandas.util.testing as tm\n"
          ],
          "name": "stderr"
        },
        {
          "output_type": "display_data",
          "data": {
            "text/html": [
              "        <script type=\"text/javascript\">\n",
              "        window.PlotlyConfig = {MathJaxConfig: 'local'};\n",
              "        if (window.MathJax) {MathJax.Hub.Config({SVG: {font: \"STIX-Web\"}});}\n",
              "        if (typeof require !== 'undefined') {\n",
              "        require.undef(\"plotly\");\n",
              "        requirejs.config({\n",
              "            paths: {\n",
              "                'plotly': ['https://cdn.plot.ly/plotly-latest.min']\n",
              "            }\n",
              "        });\n",
              "        require(['plotly'], function(Plotly) {\n",
              "            window._Plotly = Plotly;\n",
              "        });\n",
              "        }\n",
              "        </script>\n",
              "        "
            ]
          },
          "metadata": {
            "tags": []
          }
        }
      ]
    },
    {
      "cell_type": "markdown",
      "metadata": {
        "id": "IJHHy0ocozXJ",
        "colab_type": "text"
      },
      "source": [
        "##### Below are the steps to download the dataset from kaggle to google colab"
      ]
    },
    {
      "cell_type": "code",
      "metadata": {
        "id": "TtzHm5A_os0c",
        "colab_type": "code",
        "outputId": "dd00c331-f557-4d5a-e02d-c6799ab21724",
        "colab": {
          "base_uri": "https://localhost:8080/",
          "height": 228
        }
      },
      "source": [
        "!pip install kaggle\n",
        "# Import kaggle.json from google drive\n",
        "# This snippet will output a link which needs authentication from any google account\n",
        "from googleapiclient.discovery import build\n",
        "import io, os\n",
        "from googleapiclient.http import MediaIoBaseDownload\n",
        "from google.colab import auth\n",
        "auth.authenticate_user()\n",
        "drive_service = build('drive', 'v3')\n",
        "results = drive_service.files().list(\n",
        "    q=\"name = 'kaggle.json'\", fields=\"files(id)\").execute()\n",
        "kaggle_api_key = results.get('files', [])\n",
        "# print(kaggle_api_key)\n",
        "filename = \"/content/.kaggle/kaggle.json\"\n",
        "os.makedirs(os.path.dirname(filename), exist_ok=True)\n",
        "request = drive_service.files().get_media(fileId=kaggle_api_key[0]['id'])\n",
        "fh = io.FileIO(filename, 'wb')\n",
        "downloader = MediaIoBaseDownload(fh, request)\n",
        "done = False\n",
        "while done is False:\n",
        "    status, done = downloader.next_chunk()\n",
        "    print(\"Download %d%%.\" % int(status.progress() * 100))\n",
        "os.chmod(filename, 600)\n",
        "\n",
        "! mkdir ~/.kaggle\n",
        "! cp /content/.kaggle/kaggle.json ~/.kaggle/\n",
        "! chmod 600 ~/.kaggle/kaggle.json\n",
        "! kaggle datasets download -d carlosparadis/fires-from-space-australia-and-new-zeland\n",
        "\n",
        "!mkdir bushfire\n",
        "!unzip fires-from-space-australia-and-new-zeland.zip -d bushfire"
      ],
      "execution_count": 0,
      "outputs": [
        {
          "output_type": "stream",
          "text": [
            "Requirement already satisfied: kaggle in /usr/local/lib/python3.6/dist-packages (1.5.6)\n",
            "Requirement already satisfied: python-dateutil in /usr/local/lib/python3.6/dist-packages (from kaggle) (2.8.1)\n",
            "Requirement already satisfied: six>=1.10 in /usr/local/lib/python3.6/dist-packages (from kaggle) (1.12.0)\n",
            "Requirement already satisfied: python-slugify in /usr/local/lib/python3.6/dist-packages (from kaggle) (4.0.0)\n",
            "Requirement already satisfied: urllib3<1.25,>=1.21.1 in /usr/local/lib/python3.6/dist-packages (from kaggle) (1.24.3)\n",
            "Requirement already satisfied: tqdm in /usr/local/lib/python3.6/dist-packages (from kaggle) (4.38.0)\n",
            "Requirement already satisfied: certifi in /usr/local/lib/python3.6/dist-packages (from kaggle) (2020.4.5.1)\n",
            "Requirement already satisfied: requests in /usr/local/lib/python3.6/dist-packages (from kaggle) (2.21.0)\n",
            "Requirement already satisfied: text-unidecode>=1.3 in /usr/local/lib/python3.6/dist-packages (from python-slugify->kaggle) (1.3)\n",
            "Requirement already satisfied: idna<2.9,>=2.5 in /usr/local/lib/python3.6/dist-packages (from requests->kaggle) (2.8)\n",
            "Requirement already satisfied: chardet<3.1.0,>=3.0.2 in /usr/local/lib/python3.6/dist-packages (from requests->kaggle) (3.0.4)\n"
          ],
          "name": "stdout"
        }
      ]
    },
    {
      "cell_type": "code",
      "metadata": {
        "id": "McBa0tqBHvfV",
        "colab_type": "code",
        "outputId": "2488e936-0598-4c46-f353-3b7640ac61b0",
        "colab": {
          "base_uri": "https://localhost:8080/",
          "height": 35
        }
      },
      "source": [
        "# Import kaggle.json from google drive\n",
        "# This snippet will output a link which needs authentication from any google account\n",
        "from googleapiclient.discovery import build\n",
        "import io, os\n",
        "from googleapiclient.http import MediaIoBaseDownload\n",
        "from google.colab import auth\n",
        "auth.authenticate_user()\n",
        "drive_service = build('drive', 'v3')\n",
        "results = drive_service.files().list(\n",
        "    q=\"name = 'kaggle.json'\", fields=\"files(id)\").execute()\n",
        "kaggle_api_key = results.get('files', [])\n",
        "# print(kaggle_api_key)\n",
        "filename = \"/content/.kaggle/kaggle.json\"\n",
        "os.makedirs(os.path.dirname(filename), exist_ok=True)\n",
        "request = drive_service.files().get_media(fileId=kaggle_api_key[0]['id'])\n",
        "fh = io.FileIO(filename, 'wb')\n",
        "downloader = MediaIoBaseDownload(fh, request)\n",
        "done = False\n",
        "while done is False:\n",
        "    status, done = downloader.next_chunk()\n",
        "    print(\"Download %d%%.\" % int(status.progress() * 100))\n",
        "os.chmod(filename, 600)"
      ],
      "execution_count": 0,
      "outputs": [
        {
          "output_type": "stream",
          "text": [
            "Download 100%.\n"
          ],
          "name": "stdout"
        }
      ]
    },
    {
      "cell_type": "markdown",
      "metadata": {
        "id": "xi3jJHg5s8M4",
        "colab_type": "text"
      },
      "source": [
        "##### Load the dataset to a pandas dataframe"
      ]
    },
    {
      "cell_type": "code",
      "metadata": {
        "id": "LLEKC6rhtK4q",
        "colab_type": "code",
        "colab": {}
      },
      "source": [
        "df1 = pd.read_csv('/content/bushfire/fire_archive_V1_96617.csv')\n",
        "df2 = pd.read_csv('/content/bushfire/fire_nrt_V1_96617.csv')"
      ],
      "execution_count": 0,
      "outputs": []
    },
    {
      "cell_type": "code",
      "metadata": {
        "id": "k-tQMVa-ttk3",
        "colab_type": "code",
        "outputId": "2fdccecb-51c4-4e52-a0c4-f94a0ede0f6a",
        "colab": {
          "base_uri": "https://localhost:8080/",
          "height": 87
        }
      },
      "source": [
        "df1.columns"
      ],
      "execution_count": 0,
      "outputs": [
        {
          "output_type": "execute_result",
          "data": {
            "text/plain": [
              "Index(['latitude', 'longitude', 'bright_ti4', 'scan', 'track', 'acq_date',\n",
              "       'acq_time', 'satellite', 'instrument', 'confidence', 'version',\n",
              "       'bright_ti5', 'frp', 'type'],\n",
              "      dtype='object')"
            ]
          },
          "metadata": {
            "tags": []
          },
          "execution_count": 15
        }
      ]
    },
    {
      "cell_type": "code",
      "metadata": {
        "id": "bAe7LVRDt2dL",
        "colab_type": "code",
        "outputId": "8d171040-f2e7-42ab-db48-0441dc656931",
        "colab": {
          "base_uri": "https://localhost:8080/",
          "height": 87
        }
      },
      "source": [
        "df2.columns"
      ],
      "execution_count": 0,
      "outputs": [
        {
          "output_type": "execute_result",
          "data": {
            "text/plain": [
              "Index(['latitude', 'longitude', 'bright_ti4', 'scan', 'track', 'acq_date',\n",
              "       'acq_time', 'satellite', 'instrument', 'confidence', 'version',\n",
              "       'bright_ti5', 'frp', 'daynight'],\n",
              "      dtype='object')"
            ]
          },
          "metadata": {
            "tags": []
          },
          "execution_count": 16
        }
      ]
    },
    {
      "cell_type": "markdown",
      "metadata": {
        "id": "f3CVIk_ivEZ1",
        "colab_type": "text"
      },
      "source": [
        "Description of the columns\n",
        "\n",
        "\n",
        "| Attribute | Short Description | Long Description  |\n",
        "|---|---|---|\n",
        "| Latitude|Latitude  |Center of nominal 375 m fire pixel   |\n",
        "| Longitude  |Longitude   |Center of nominal 375 m fire pixel   |\n",
        "| Bright_TI4  |Brightness temperature I-4   |VIIRS I-4 channel brightness temperature of the fire pixel measured in Kelvin.   |\n",
        "| Scan  |Along Scan pixel size   |The algorithm produces approximately 375 m pixels at nadir. Scan and track reflect actual pixel size.   |\n",
        "| Track  |Along Track pixel size   |The algorithm produces approximately 375 m pixels at nadir. Scan and track reflect actual pixel size.   |\n",
        "| Acq_Date  |Acquisition Date   |Date of VIIRS acquisition.   |\n",
        "| Acq_Time  |Acquisition Time   |Time of acquisition/overpass of the satellite (in UTC).   |\n",
        "| Satellite  |Satellite   |N= Suomi National Polar-orbiting Partnership (Suomi NPP), 1=NOAA-20 (designated JPSS-1 prior to launch)   |\n",
        "| Instrument  |   |   |\n",
        "| Confidence  |Confidence   |This value is based on a collection of intermediate algorithm quantities used in the detection process. It is intended to help users gauge the quality of individual hotspot/fire pixels. Confidence values are set to low, nominal and high. Low confidence daytime fire pixels are typically associated with areas of sun glint and lower relative temperature anomaly (<15K) in the mid-infrared channel I4. Nominal confidence pixels are those free of potential sun glint contamination during the day and marked by strong (>15K) temperature anomaly in either day or nighttime data. High confidence fire pixels are associated with day or nighttime saturated pixels.   |\n",
        "| Version  |Version (Collection and source)   |Version identifies the collection (e.g. VIIRS Collection 1) and source of data processing: Near Real-Time (NRT suffix added to collection) or Standard Processing (collection only). <br>\n",
        "\"1.0NRT\" - Collection 1 NRT processing.\n",
        "\"1.0\" - Collection 1 Standard processing   |\n",
        "| Bright_TI5  |Brightness temperature I-5   |I-5 Channel brightness temperature of the fire pixel measured in Kelvin.   |\n",
        "| FRP  |Fire Radiative Power   |FRP depicts the pixel-integrated fire radiative power in MW (megawatts).   |\n",
        "| Daynight  |Day or Night   |D= Daytime fire, N= Nighttime fire   |"
      ]
    },
    {
      "cell_type": "code",
      "metadata": {
        "id": "qZSXi1e6t43C",
        "colab_type": "code",
        "colab": {}
      },
      "source": [
        "df_VIIRS = pd.concat([df1, df2], sort=True)"
      ],
      "execution_count": 0,
      "outputs": []
    },
    {
      "cell_type": "code",
      "metadata": {
        "id": "GVbxER2u2lpn",
        "colab_type": "code",
        "outputId": "d80a5b97-e161-452a-8adc-984dfa7b0bd8",
        "colab": {
          "base_uri": "https://localhost:8080/",
          "height": 35
        }
      },
      "source": [
        "df_VIIRS.shape"
      ],
      "execution_count": 0,
      "outputs": [
        {
          "output_type": "execute_result",
          "data": {
            "text/plain": [
              "(1141035, 15)"
            ]
          },
          "metadata": {
            "tags": []
          },
          "execution_count": 18
        }
      ]
    },
    {
      "cell_type": "code",
      "metadata": {
        "id": "r3AyEEaW2pVO",
        "colab_type": "code",
        "outputId": "af069228-cf83-429c-b918-84bf7374892c",
        "colab": {
          "base_uri": "https://localhost:8080/",
          "height": 87
        }
      },
      "source": [
        "df_VIIRS.columns"
      ],
      "execution_count": 0,
      "outputs": [
        {
          "output_type": "execute_result",
          "data": {
            "text/plain": [
              "Index(['acq_date', 'acq_time', 'bright_ti4', 'bright_ti5', 'confidence',\n",
              "       'daynight', 'frp', 'instrument', 'latitude', 'longitude', 'satellite',\n",
              "       'scan', 'track', 'type', 'version'],\n",
              "      dtype='object')"
            ]
          },
          "metadata": {
            "tags": []
          },
          "execution_count": 19
        }
      ]
    },
    {
      "cell_type": "code",
      "metadata": {
        "id": "jHbHHtHY3Jut",
        "colab_type": "code",
        "outputId": "d8fef95f-7210-41a3-aad7-07e538bf6f94",
        "colab": {
          "base_uri": "https://localhost:8080/",
          "height": 202
        }
      },
      "source": [
        "df_VIIRS = df_VIIRS[['latitude','longitude','acq_date','frp']]\n",
        "df_VIIRS.head()"
      ],
      "execution_count": 0,
      "outputs": [
        {
          "output_type": "execute_result",
          "data": {
            "text/html": [
              "<div>\n",
              "<style scoped>\n",
              "    .dataframe tbody tr th:only-of-type {\n",
              "        vertical-align: middle;\n",
              "    }\n",
              "\n",
              "    .dataframe tbody tr th {\n",
              "        vertical-align: top;\n",
              "    }\n",
              "\n",
              "    .dataframe thead th {\n",
              "        text-align: right;\n",
              "    }\n",
              "</style>\n",
              "<table border=\"1\" class=\"dataframe\">\n",
              "  <thead>\n",
              "    <tr style=\"text-align: right;\">\n",
              "      <th></th>\n",
              "      <th>latitude</th>\n",
              "      <th>longitude</th>\n",
              "      <th>acq_date</th>\n",
              "      <th>frp</th>\n",
              "    </tr>\n",
              "  </thead>\n",
              "  <tbody>\n",
              "    <tr>\n",
              "      <th>0</th>\n",
              "      <td>-34.45902</td>\n",
              "      <td>150.88040</td>\n",
              "      <td>2019-08-01</td>\n",
              "      <td>5.8</td>\n",
              "    </tr>\n",
              "    <tr>\n",
              "      <th>1</th>\n",
              "      <td>-31.70724</td>\n",
              "      <td>151.07191</td>\n",
              "      <td>2019-08-01</td>\n",
              "      <td>10.4</td>\n",
              "    </tr>\n",
              "    <tr>\n",
              "      <th>2</th>\n",
              "      <td>-31.39626</td>\n",
              "      <td>149.65253</td>\n",
              "      <td>2019-08-01</td>\n",
              "      <td>5.6</td>\n",
              "    </tr>\n",
              "    <tr>\n",
              "      <th>3</th>\n",
              "      <td>-30.39774</td>\n",
              "      <td>152.06432</td>\n",
              "      <td>2019-08-01</td>\n",
              "      <td>9.1</td>\n",
              "    </tr>\n",
              "    <tr>\n",
              "      <th>4</th>\n",
              "      <td>-31.20248</td>\n",
              "      <td>151.89766</td>\n",
              "      <td>2019-08-01</td>\n",
              "      <td>9.4</td>\n",
              "    </tr>\n",
              "  </tbody>\n",
              "</table>\n",
              "</div>"
            ],
            "text/plain": [
              "   latitude  longitude    acq_date   frp\n",
              "0 -34.45902  150.88040  2019-08-01   5.8\n",
              "1 -31.70724  151.07191  2019-08-01  10.4\n",
              "2 -31.39626  149.65253  2019-08-01   5.6\n",
              "3 -30.39774  152.06432  2019-08-01   9.1\n",
              "4 -31.20248  151.89766  2019-08-01   9.4"
            ]
          },
          "metadata": {
            "tags": []
          },
          "execution_count": 20
        }
      ]
    },
    {
      "cell_type": "code",
      "metadata": {
        "id": "kyh9czOWSnQa",
        "colab_type": "code",
        "outputId": "dbac5b5a-c65f-4bef-9072-d6ef0da4bba9",
        "colab": {
          "base_uri": "https://localhost:8080/",
          "height": 415
        }
      },
      "source": [
        "#sort the data by acq_date\n",
        "df_VIIRS.sort_values(by='acq_date', ascending=True)"
      ],
      "execution_count": 0,
      "outputs": [
        {
          "output_type": "execute_result",
          "data": {
            "text/html": [
              "<div>\n",
              "<style scoped>\n",
              "    .dataframe tbody tr th:only-of-type {\n",
              "        vertical-align: middle;\n",
              "    }\n",
              "\n",
              "    .dataframe tbody tr th {\n",
              "        vertical-align: top;\n",
              "    }\n",
              "\n",
              "    .dataframe thead th {\n",
              "        text-align: right;\n",
              "    }\n",
              "</style>\n",
              "<table border=\"1\" class=\"dataframe\">\n",
              "  <thead>\n",
              "    <tr style=\"text-align: right;\">\n",
              "      <th></th>\n",
              "      <th>latitude</th>\n",
              "      <th>longitude</th>\n",
              "      <th>acq_date</th>\n",
              "      <th>frp</th>\n",
              "    </tr>\n",
              "  </thead>\n",
              "  <tbody>\n",
              "    <tr>\n",
              "      <th>0</th>\n",
              "      <td>-34.45902</td>\n",
              "      <td>150.88040</td>\n",
              "      <td>2019-08-01</td>\n",
              "      <td>5.8</td>\n",
              "    </tr>\n",
              "    <tr>\n",
              "      <th>2482</th>\n",
              "      <td>-14.16059</td>\n",
              "      <td>130.05383</td>\n",
              "      <td>2019-08-01</td>\n",
              "      <td>1.1</td>\n",
              "    </tr>\n",
              "    <tr>\n",
              "      <th>2483</th>\n",
              "      <td>-14.16737</td>\n",
              "      <td>130.05188</td>\n",
              "      <td>2019-08-01</td>\n",
              "      <td>1.2</td>\n",
              "    </tr>\n",
              "    <tr>\n",
              "      <th>2484</th>\n",
              "      <td>-14.16672</td>\n",
              "      <td>130.01665</td>\n",
              "      <td>2019-08-01</td>\n",
              "      <td>3.4</td>\n",
              "    </tr>\n",
              "    <tr>\n",
              "      <th>2485</th>\n",
              "      <td>-14.15595</td>\n",
              "      <td>130.03313</td>\n",
              "      <td>2019-08-01</td>\n",
              "      <td>1.2</td>\n",
              "    </tr>\n",
              "    <tr>\n",
              "      <th>...</th>\n",
              "      <td>...</td>\n",
              "      <td>...</td>\n",
              "      <td>...</td>\n",
              "      <td>...</td>\n",
              "    </tr>\n",
              "    <tr>\n",
              "      <th>952497</th>\n",
              "      <td>-16.05202</td>\n",
              "      <td>144.75102</td>\n",
              "      <td>2020-01-11</td>\n",
              "      <td>6.4</td>\n",
              "    </tr>\n",
              "    <tr>\n",
              "      <th>952496</th>\n",
              "      <td>-16.05298</td>\n",
              "      <td>144.74356</td>\n",
              "      <td>2020-01-11</td>\n",
              "      <td>8.9</td>\n",
              "    </tr>\n",
              "    <tr>\n",
              "      <th>952495</th>\n",
              "      <td>-16.04700</td>\n",
              "      <td>144.75786</td>\n",
              "      <td>2020-01-11</td>\n",
              "      <td>9.8</td>\n",
              "    </tr>\n",
              "    <tr>\n",
              "      <th>953440</th>\n",
              "      <td>-17.85031</td>\n",
              "      <td>124.07442</td>\n",
              "      <td>2020-01-11</td>\n",
              "      <td>5.4</td>\n",
              "    </tr>\n",
              "    <tr>\n",
              "      <th>956256</th>\n",
              "      <td>-33.22012</td>\n",
              "      <td>115.75043</td>\n",
              "      <td>2020-01-11</td>\n",
              "      <td>0.6</td>\n",
              "    </tr>\n",
              "  </tbody>\n",
              "</table>\n",
              "<p>1141035 rows × 4 columns</p>\n",
              "</div>"
            ],
            "text/plain": [
              "        latitude  longitude    acq_date  frp\n",
              "0      -34.45902  150.88040  2019-08-01  5.8\n",
              "2482   -14.16059  130.05383  2019-08-01  1.1\n",
              "2483   -14.16737  130.05188  2019-08-01  1.2\n",
              "2484   -14.16672  130.01665  2019-08-01  3.4\n",
              "2485   -14.15595  130.03313  2019-08-01  1.2\n",
              "...          ...        ...         ...  ...\n",
              "952497 -16.05202  144.75102  2020-01-11  6.4\n",
              "952496 -16.05298  144.74356  2020-01-11  8.9\n",
              "952495 -16.04700  144.75786  2020-01-11  9.8\n",
              "953440 -17.85031  124.07442  2020-01-11  5.4\n",
              "956256 -33.22012  115.75043  2020-01-11  0.6\n",
              "\n",
              "[1141035 rows x 4 columns]"
            ]
          },
          "metadata": {
            "tags": []
          },
          "execution_count": 21
        }
      ]
    },
    {
      "cell_type": "code",
      "metadata": {
        "id": "hrTIZnPZT64a",
        "colab_type": "code",
        "outputId": "a50e059b-02ba-4583-a1ef-556718548792",
        "colab": {
          "base_uri": "https://localhost:8080/",
          "height": 208
        }
      },
      "source": [
        "df_VIIRS.info()"
      ],
      "execution_count": 0,
      "outputs": [
        {
          "output_type": "stream",
          "text": [
            "<class 'pandas.core.frame.DataFrame'>\n",
            "Int64Index: 1141035 entries, 0 to 956256\n",
            "Data columns (total 4 columns):\n",
            " #   Column     Non-Null Count    Dtype  \n",
            "---  ------     --------------    -----  \n",
            " 0   latitude   1141035 non-null  float64\n",
            " 1   longitude  1141035 non-null  float64\n",
            " 2   acq_date   1141035 non-null  object \n",
            " 3   frp        1141035 non-null  float64\n",
            "dtypes: float64(3), object(1)\n",
            "memory usage: 43.5+ MB\n"
          ],
          "name": "stdout"
        }
      ]
    },
    {
      "cell_type": "code",
      "metadata": {
        "id": "OFgynMe_UQv0",
        "colab_type": "code",
        "outputId": "b42ac9d9-d349-481e-d93e-be4b235b1dc6",
        "colab": {
          "base_uri": "https://localhost:8080/",
          "height": 294
        }
      },
      "source": [
        "df_VIIRS.describe()"
      ],
      "execution_count": 0,
      "outputs": [
        {
          "output_type": "execute_result",
          "data": {
            "text/html": [
              "<div>\n",
              "<style scoped>\n",
              "    .dataframe tbody tr th:only-of-type {\n",
              "        vertical-align: middle;\n",
              "    }\n",
              "\n",
              "    .dataframe tbody tr th {\n",
              "        vertical-align: top;\n",
              "    }\n",
              "\n",
              "    .dataframe thead th {\n",
              "        text-align: right;\n",
              "    }\n",
              "</style>\n",
              "<table border=\"1\" class=\"dataframe\">\n",
              "  <thead>\n",
              "    <tr style=\"text-align: right;\">\n",
              "      <th></th>\n",
              "      <th>latitude</th>\n",
              "      <th>longitude</th>\n",
              "      <th>frp</th>\n",
              "    </tr>\n",
              "  </thead>\n",
              "  <tbody>\n",
              "    <tr>\n",
              "      <th>count</th>\n",
              "      <td>1.141035e+06</td>\n",
              "      <td>1.141035e+06</td>\n",
              "      <td>1.141035e+06</td>\n",
              "    </tr>\n",
              "    <tr>\n",
              "      <th>mean</th>\n",
              "      <td>-2.620565e+01</td>\n",
              "      <td>1.417957e+02</td>\n",
              "      <td>1.443618e+01</td>\n",
              "    </tr>\n",
              "    <tr>\n",
              "      <th>std</th>\n",
              "      <td>8.416856e+00</td>\n",
              "      <td>1.080249e+01</td>\n",
              "      <td>4.229887e+01</td>\n",
              "    </tr>\n",
              "    <tr>\n",
              "      <th>min</th>\n",
              "      <td>-4.321232e+01</td>\n",
              "      <td>1.134470e+02</td>\n",
              "      <td>0.000000e+00</td>\n",
              "    </tr>\n",
              "    <tr>\n",
              "      <th>25%</th>\n",
              "      <td>-3.278702e+01</td>\n",
              "      <td>1.318983e+02</td>\n",
              "      <td>2.000000e+00</td>\n",
              "    </tr>\n",
              "    <tr>\n",
              "      <th>50%</th>\n",
              "      <td>-2.943247e+01</td>\n",
              "      <td>1.473232e+02</td>\n",
              "      <td>5.100000e+00</td>\n",
              "    </tr>\n",
              "    <tr>\n",
              "      <th>75%</th>\n",
              "      <td>-1.665093e+01</td>\n",
              "      <td>1.506748e+02</td>\n",
              "      <td>1.230000e+01</td>\n",
              "    </tr>\n",
              "    <tr>\n",
              "      <th>max</th>\n",
              "      <td>-9.394060e+00</td>\n",
              "      <td>1.535211e+02</td>\n",
              "      <td>1.071720e+04</td>\n",
              "    </tr>\n",
              "  </tbody>\n",
              "</table>\n",
              "</div>"
            ],
            "text/plain": [
              "           latitude     longitude           frp\n",
              "count  1.141035e+06  1.141035e+06  1.141035e+06\n",
              "mean  -2.620565e+01  1.417957e+02  1.443618e+01\n",
              "std    8.416856e+00  1.080249e+01  4.229887e+01\n",
              "min   -4.321232e+01  1.134470e+02  0.000000e+00\n",
              "25%   -3.278702e+01  1.318983e+02  2.000000e+00\n",
              "50%   -2.943247e+01  1.473232e+02  5.100000e+00\n",
              "75%   -1.665093e+01  1.506748e+02  1.230000e+01\n",
              "max   -9.394060e+00  1.535211e+02  1.071720e+04"
            ]
          },
          "metadata": {
            "tags": []
          },
          "execution_count": 25
        }
      ]
    },
    {
      "cell_type": "code",
      "metadata": {
        "id": "FWIhosJgaXEW",
        "colab_type": "code",
        "outputId": "4f2fa67c-0313-4103-9013-4fdc6c729ed4",
        "colab": {
          "base_uri": "https://localhost:8080/",
          "height": 35
        }
      },
      "source": [
        "df_VIIRS.frp.max()"
      ],
      "execution_count": 0,
      "outputs": [
        {
          "output_type": "execute_result",
          "data": {
            "text/plain": [
              "10717.2"
            ]
          },
          "metadata": {
            "tags": []
          },
          "execution_count": 26
        }
      ]
    },
    {
      "cell_type": "code",
      "metadata": {
        "id": "8xhAF77nan8j",
        "colab_type": "code",
        "outputId": "9168c5f6-26f1-4cd2-c86e-e56a19356119",
        "colab": {
          "base_uri": "https://localhost:8080/",
          "height": 79
        }
      },
      "source": [
        "df_VIIRS[df_VIIRS['frp'] == 10717.2]"
      ],
      "execution_count": 0,
      "outputs": [
        {
          "output_type": "execute_result",
          "data": {
            "text/html": [
              "<div>\n",
              "<style scoped>\n",
              "    .dataframe tbody tr th:only-of-type {\n",
              "        vertical-align: middle;\n",
              "    }\n",
              "\n",
              "    .dataframe tbody tr th {\n",
              "        vertical-align: top;\n",
              "    }\n",
              "\n",
              "    .dataframe thead th {\n",
              "        text-align: right;\n",
              "    }\n",
              "</style>\n",
              "<table border=\"1\" class=\"dataframe\">\n",
              "  <thead>\n",
              "    <tr style=\"text-align: right;\">\n",
              "      <th></th>\n",
              "      <th>latitude</th>\n",
              "      <th>longitude</th>\n",
              "      <th>acq_date</th>\n",
              "      <th>frp</th>\n",
              "    </tr>\n",
              "  </thead>\n",
              "  <tbody>\n",
              "    <tr>\n",
              "      <th>942932</th>\n",
              "      <td>-36.97858</td>\n",
              "      <td>146.71938</td>\n",
              "      <td>2020-01-08</td>\n",
              "      <td>10717.2</td>\n",
              "    </tr>\n",
              "  </tbody>\n",
              "</table>\n",
              "</div>"
            ],
            "text/plain": [
              "        latitude  longitude    acq_date      frp\n",
              "942932 -36.97858  146.71938  2020-01-08  10717.2"
            ]
          },
          "metadata": {
            "tags": []
          },
          "execution_count": 32
        }
      ]
    },
    {
      "cell_type": "code",
      "metadata": {
        "id": "i_YI-utPhg6y",
        "colab_type": "code",
        "outputId": "586d6a10-3df3-44e7-bd28-aab804c886eb",
        "colab": {
          "base_uri": "https://localhost:8080/",
          "height": 104
        }
      },
      "source": [
        "lat_max = df_VIIRS.loc[df_VIIRS['frp'].idxmax()]['latitude']"
      ],
      "execution_count": 0,
      "outputs": [
        {
          "output_type": "execute_result",
          "data": {
            "text/plain": [
              "latitude       -36.9786\n",
              "longitude       146.719\n",
              "acq_date     2020-01-08\n",
              "frp             10717.2\n",
              "Name: 942932, dtype: object"
            ]
          },
          "metadata": {
            "tags": []
          },
          "execution_count": 37
        }
      ]
    },
    {
      "cell_type": "code",
      "metadata": {
        "id": "O_WiVrFyiMDS",
        "colab_type": "code",
        "colab": {}
      },
      "source": [
        "lat_max = df_VIIRS.loc[df_VIIRS['frp'].idxmax()]['latitude']\n",
        "long_max = df_VIIRS.loc[df_VIIRS['frp'].idxmax()]['longitude']"
      ],
      "execution_count": 0,
      "outputs": []
    },
    {
      "cell_type": "markdown",
      "metadata": {
        "id": "9L8P88MW5umJ",
        "colab_type": "text"
      },
      "source": [
        "#### Using Folium for map visualization\n",
        "Import the folium package\n"
      ]
    },
    {
      "cell_type": "code",
      "metadata": {
        "id": "VkVorHv25iWD",
        "colab_type": "code",
        "colab": {}
      },
      "source": [
        "import folium\n",
        "from folium import plugins"
      ],
      "execution_count": 0,
      "outputs": []
    },
    {
      "cell_type": "markdown",
      "metadata": {
        "id": "edymegYi-1bD",
        "colab_type": "text"
      },
      "source": [
        "Generate Map of Autralia. Location is -27,132"
      ]
    },
    {
      "cell_type": "code",
      "metadata": {
        "id": "zIsF0yid7CRb",
        "colab_type": "code",
        "outputId": "e9290d47-b7de-4034-f886-e10049cfb9cd",
        "colab": {
          "base_uri": "https://localhost:8080/",
          "height": 394
        }
      },
      "source": [
        "m = folium.Map(location=[-27, 132], zoom_start=4.4, tiles='Stamen Terrain', control_scale=True)\n",
        "m"
      ],
      "execution_count": 0,
      "outputs": [
        {
          "output_type": "execute_result",
          "data": {
            "text/html": [
              "<div style=\"width:100%;\"><div style=\"position:relative;width:100%;height:0;padding-bottom:60%;\"><iframe src=\"about:blank\" style=\"position:absolute;width:100%;height:100%;left:0;top:0;border:none !important;\" data-html=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 onload=\"this.contentDocument.open();this.contentDocument.write(atob(this.getAttribute('data-html')));this.contentDocument.close();\" allowfullscreen webkitallowfullscreen mozallowfullscreen></iframe></div></div>"
            ],
            "text/plain": [
              "<folium.folium.Map at 0x7f74a92036d8>"
            ]
          },
          "metadata": {
            "tags": []
          },
          "execution_count": 53
        }
      ]
    },
    {
      "cell_type": "markdown",
      "metadata": {
        "id": "wUkkx_0petC-",
        "colab_type": "text"
      },
      "source": [
        "Create marker for the highest frp"
      ]
    },
    {
      "cell_type": "code",
      "metadata": {
        "id": "jhIJq11t9Mjb",
        "colab_type": "code",
        "outputId": "dd1c74d5-f95e-406a-ce21-00a7850ed142",
        "colab": {
          "base_uri": "https://localhost:8080/",
          "height": 394
        }
      },
      "source": [
        "folium.Marker(location=[lat_max, long_max], tooltip= 'frp: ' + str(df_VIIRS.loc[df_VIIRS['frp'].idxmax()]['frp'])\n",
        "+ '<br/> date: ' + str(df_VIIRS.loc[df_VIIRS['frp'].idxmax()]['acq_date']), icon=folium.Icon(color='red', icon='fire'),).add_to(m)\n",
        "\n",
        "m"
      ],
      "execution_count": 0,
      "outputs": [
        {
          "output_type": "execute_result",
          "data": {
            "text/html": [
              "<div style=\"width:100%;\"><div style=\"position:relative;width:100%;height:0;padding-bottom:60%;\"><iframe src=\"about:blank\" style=\"position:absolute;width:100%;height:100%;left:0;top:0;border:none !important;\" data-html=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 onload=\"this.contentDocument.open();this.contentDocument.write(atob(this.getAttribute('data-html')));this.contentDocument.close();\" allowfullscreen webkitallowfullscreen mozallowfullscreen></iframe></div></div>"
            ],
            "text/plain": [
              "<folium.folium.Map at 0x7f74a92036d8>"
            ]
          },
          "metadata": {
            "tags": []
          },
          "execution_count": 54
        }
      ]
    },
    {
      "cell_type": "markdown",
      "metadata": {
        "id": "8lqCPZPimbBw",
        "colab_type": "text"
      },
      "source": [
        "Plotting the top 10 highest frp"
      ]
    },
    {
      "cell_type": "code",
      "metadata": {
        "id": "wzBbZAz-kpZ7",
        "colab_type": "code",
        "outputId": "9044ae31-d4af-4961-89ae-29179d5ff20f",
        "colab": {
          "base_uri": "https://localhost:8080/",
          "height": 394
        }
      },
      "source": [
        "#getting the top highest\n",
        "\n",
        "df_top10 = df_VIIRS.sort_values(by='frp', ascending=False).head(10)\n",
        "\n",
        "for i in range(len(df_top10)):\n",
        "  folium.Marker(location=[df_top10.iloc[i]['latitude'], df_top10.iloc[i]['longitude']], tooltip= 'frp: ' + str(df_VIIRS.iloc[i]['frp'])\n",
        "+ '<br/> date: ' + str(df_VIIRS.iloc[i]['acq_date']), icon=folium.Icon(color='red', icon='fire'),).add_to(m)\n",
        "\n",
        "m"
      ],
      "execution_count": 0,
      "outputs": [
        {
          "output_type": "execute_result",
          "data": {
            "text/html": [
              "<div style=\"width:100%;\"><div style=\"position:relative;width:100%;height:0;padding-bottom:60%;\"><iframe src=\"about:blank\" style=\"position:absolute;width:100%;height:100%;left:0;top:0;border:none !important;\" data-html=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 onload=\"this.contentDocument.open();this.contentDocument.write(atob(this.getAttribute('data-html')));this.contentDocument.close();\" allowfullscreen webkitallowfullscreen mozallowfullscreen></iframe></div></div>"
            ],
            "text/plain": [
              "<folium.folium.Map at 0x7f74a92036d8>"
            ]
          },
          "metadata": {
            "tags": []
          },
          "execution_count": 55
        }
      ]
    },
    {
      "cell_type": "code",
      "metadata": {
        "id": "xUsKRRNjrcL0",
        "colab_type": "code",
        "colab": {}
      },
      "source": [
        "from folium.plugins import HeatMapWithTime"
      ],
      "execution_count": 0,
      "outputs": []
    },
    {
      "cell_type": "code",
      "metadata": {
        "id": "7vQzaOhz5NqC",
        "colab_type": "code",
        "outputId": "722ba91c-8ee5-47f3-a6c5-2686e543fcc2",
        "colab": {
          "base_uri": "https://localhost:8080/",
          "height": 415
        }
      },
      "source": [
        "df_VIIRS.groupby(['latitude', 'longitude']).sum().reset_index()"
      ],
      "execution_count": 0,
      "outputs": [
        {
          "output_type": "execute_result",
          "data": {
            "text/html": [
              "<div>\n",
              "<style scoped>\n",
              "    .dataframe tbody tr th:only-of-type {\n",
              "        vertical-align: middle;\n",
              "    }\n",
              "\n",
              "    .dataframe tbody tr th {\n",
              "        vertical-align: top;\n",
              "    }\n",
              "\n",
              "    .dataframe thead th {\n",
              "        text-align: right;\n",
              "    }\n",
              "</style>\n",
              "<table border=\"1\" class=\"dataframe\">\n",
              "  <thead>\n",
              "    <tr style=\"text-align: right;\">\n",
              "      <th></th>\n",
              "      <th>latitude</th>\n",
              "      <th>longitude</th>\n",
              "      <th>frp</th>\n",
              "    </tr>\n",
              "  </thead>\n",
              "  <tbody>\n",
              "    <tr>\n",
              "      <th>0</th>\n",
              "      <td>-43.21232</td>\n",
              "      <td>146.98082</td>\n",
              "      <td>8.3</td>\n",
              "    </tr>\n",
              "    <tr>\n",
              "      <th>1</th>\n",
              "      <td>-43.17590</td>\n",
              "      <td>147.03905</td>\n",
              "      <td>0.5</td>\n",
              "    </tr>\n",
              "    <tr>\n",
              "      <th>2</th>\n",
              "      <td>-43.14765</td>\n",
              "      <td>147.76562</td>\n",
              "      <td>1.0</td>\n",
              "    </tr>\n",
              "    <tr>\n",
              "      <th>3</th>\n",
              "      <td>-43.14532</td>\n",
              "      <td>147.76862</td>\n",
              "      <td>1.4</td>\n",
              "    </tr>\n",
              "    <tr>\n",
              "      <th>4</th>\n",
              "      <td>-43.14526</td>\n",
              "      <td>147.76770</td>\n",
              "      <td>1.2</td>\n",
              "    </tr>\n",
              "    <tr>\n",
              "      <th>...</th>\n",
              "      <td>...</td>\n",
              "      <td>...</td>\n",
              "      <td>...</td>\n",
              "    </tr>\n",
              "    <tr>\n",
              "      <th>1141024</th>\n",
              "      <td>-10.07851</td>\n",
              "      <td>142.17274</td>\n",
              "      <td>2.4</td>\n",
              "    </tr>\n",
              "    <tr>\n",
              "      <th>1141025</th>\n",
              "      <td>-9.40703</td>\n",
              "      <td>142.66313</td>\n",
              "      <td>7.7</td>\n",
              "    </tr>\n",
              "    <tr>\n",
              "      <th>1141026</th>\n",
              "      <td>-9.39655</td>\n",
              "      <td>142.64885</td>\n",
              "      <td>28.3</td>\n",
              "    </tr>\n",
              "    <tr>\n",
              "      <th>1141027</th>\n",
              "      <td>-9.39650</td>\n",
              "      <td>142.64742</td>\n",
              "      <td>15.4</td>\n",
              "    </tr>\n",
              "    <tr>\n",
              "      <th>1141028</th>\n",
              "      <td>-9.39406</td>\n",
              "      <td>142.63751</td>\n",
              "      <td>5.3</td>\n",
              "    </tr>\n",
              "  </tbody>\n",
              "</table>\n",
              "<p>1141029 rows × 3 columns</p>\n",
              "</div>"
            ],
            "text/plain": [
              "         latitude  longitude   frp\n",
              "0       -43.21232  146.98082   8.3\n",
              "1       -43.17590  147.03905   0.5\n",
              "2       -43.14765  147.76562   1.0\n",
              "3       -43.14532  147.76862   1.4\n",
              "4       -43.14526  147.76770   1.2\n",
              "...           ...        ...   ...\n",
              "1141024 -10.07851  142.17274   2.4\n",
              "1141025  -9.40703  142.66313   7.7\n",
              "1141026  -9.39655  142.64885  28.3\n",
              "1141027  -9.39650  142.64742  15.4\n",
              "1141028  -9.39406  142.63751   5.3\n",
              "\n",
              "[1141029 rows x 3 columns]"
            ]
          },
          "metadata": {
            "tags": []
          },
          "execution_count": 61
        }
      ]
    },
    {
      "cell_type": "code",
      "metadata": {
        "id": "KlUcGHcoyIjg",
        "colab_type": "code",
        "colab": {}
      },
      "source": [
        "#df_VIIRS.acq_date.sort_values().unique()\n",
        "\n",
        "df_day_list = []\n",
        "for day in df_VIIRS.acq_date.sort_values().unique():\n",
        "        df_day_list.append(df_VIIRS.loc[df_VIIRS.acq_date == day, ['acq_date','latitude', 'longitude', 'frp']].groupby(['latitude', 'longitude']).sum().reset_index().values.tolist())\n",
        "\n",
        "#df_day_list"
      ],
      "execution_count": 0,
      "outputs": []
    },
    {
      "cell_type": "code",
      "metadata": {
        "id": "wEAYo1VN1C_U",
        "colab_type": "code",
        "colab": {}
      },
      "source": [
        "m = folium.Map(location=[-27, 132], zoom_start=4.4, tiles='Stamen Terrain', control_scale=True)\n",
        "HeatMapWithTime(data=df_day_list, index=list(df_VIIRS.acq_date.sort_values().unique()), auto_play=True,radius=3.5, gradient={0.2: 'blue', 0.4: 'lime', 0.6: 'orange', 1: 'red'}, min_opacity=0.2, max_opacity=0.8, use_local_extrema=True).add_to(m)\n",
        "\n",
        "m.save (r'Time.html')"
      ],
      "execution_count": 0,
      "outputs": []
    },
    {
      "cell_type": "code",
      "metadata": {
        "id": "xRiyB3dc7SxG",
        "colab_type": "code",
        "colab": {}
      },
      "source": [
        ""
      ],
      "execution_count": 0,
      "outputs": []
    }
  ]
}